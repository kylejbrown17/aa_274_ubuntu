{
 "cells": [
  {
   "cell_type": "code",
   "execution_count": 1,
   "metadata": {
    "collapsed": true
   },
   "outputs": [],
   "source": [
    "import matplotlib.pyplot as plt\n",
    "import numpy as np\n",
    "import pdb\n",
    "\n",
    "from cam_calibrator import CameraCalibrator"
   ]
  },
  {
   "cell_type": "code",
   "execution_count": 2,
   "metadata": {
    "collapsed": false
   },
   "outputs": [
    {
     "name": "stdout",
     "output_type": "stream",
     "text": [
      "*** Added sample 1, p_x = 0.516, p_y = 0.498, p_size = 0.370, skew = 0.517\n",
      "*** Added sample 2, p_x = 0.565, p_y = 0.466, p_size = 0.554, skew = 0.210\n",
      "*** Added sample 3, p_x = 0.352, p_y = 0.516, p_size = 0.472, skew = 0.020\n",
      "*** Added sample 4, p_x = 0.747, p_y = 0.302, p_size = 0.292, skew = 0.073\n",
      "*** Added sample 5, p_x = 0.564, p_y = 0.556, p_size = 0.386, skew = 0.874\n",
      "*** Added sample 6, p_x = 0.473, p_y = 0.431, p_size = 0.327, skew = 0.433\n",
      "*** Added sample 7, p_x = 0.461, p_y = 0.633, p_size = 0.447, skew = 0.464\n",
      "*** Added sample 8, p_x = 0.500, p_y = 0.350, p_size = 0.466, skew = 0.309\n",
      "*** Added sample 9, p_x = 0.566, p_y = 0.512, p_size = 0.397, skew = 0.072\n",
      "*** Added sample 10, p_x = 0.505, p_y = 0.474, p_size = 0.467, skew = 0.012\n",
      "*** Added sample 11, p_x = 0.490, p_y = 0.553, p_size = 0.474, skew = 0.169\n",
      "*** Added sample 12, p_x = 0.578, p_y = 0.517, p_size = 0.420, skew = 0.270\n"
     ]
    }
   ],
   "source": [
    "cc = CameraCalibrator()\n",
    "\n",
    "cal_img_path = './webcam_12'  # Location of calibration images\n",
    "name = 'webcam'               # Name of the camera\n",
    "n_corners = [7, 9]            # Corner grid dimensions\n",
    "square_length = 0.0205        # Chessboard square length in meters\n",
    "\n",
    "display_flag = False\n",
    "cc.loadImages(cal_img_path, name, n_corners, square_length, display_flag)\n",
    "\n",
    "u_meas, v_meas = cc.getMeasuredPixImageCoord()"
   ]
  },
  {
   "cell_type": "code",
   "execution_count": 3,
   "metadata": {
    "collapsed": true
   },
   "outputs": [],
   "source": [
    "def genCornerCoordinates(cc, u_meas, v_meas):\n",
    "    # generate world coordinates (X,Y) for every corner in the chessboard.\n",
    "    # the ordering must correspond exactly to the order in (u_meas,v_meas)\n",
    "    #X = [(self.n_corners_x - 1) * self.d_square -self.d_square*float(i%self.n_corners_x) for i in range(len(u_meas))] # from bottom right corner \n",
    "    #Y = [self.d_square*float(i/self.n_corners_x) for i in range(len(v_meas))]\n",
    "\n",
    "    # origin = top left, x increases to the right, y increases down\n",
    "    X = [cc.d_square*float(i%cc.n_corners_x) for i in range(len(u_meas[0]))] # from bottom right corner \n",
    "    Y = [cc.d_square*float(i/cc.n_corners_x) for i in range(len(v_meas[0]))]\n",
    "\n",
    "    return X, Y"
   ]
  },
  {
   "cell_type": "code",
   "execution_count": 4,
   "metadata": {
    "collapsed": false
   },
   "outputs": [],
   "source": [
    "X, Y = genCornerCoordinates(cc, u_meas, v_meas)"
   ]
  },
  {
   "cell_type": "code",
   "execution_count": 5,
   "metadata": {
    "collapsed": true
   },
   "outputs": [],
   "source": [
    "def estimateHomography(cc, u_meas, v_meas, X, Y):\n",
    "    # form matrix L\n",
    "    M = np.vstack((X, Y, [1.0 for _ in range(len(X))]))\n",
    "\n",
    "    u = np.dot(np.array([u_meas]).T, np.ones([1,3]))\n",
    "    v = np.dot(np.array([v_meas]).T, np.ones([1,3]))\n",
    "    uM = u*M.T\n",
    "    vM = v*M.T\n",
    "\n",
    "    L1 = np.hstack((M.T, np.zeros(M.T.shape), -uM))\n",
    "    L2 = np.hstack((np.zeros(M.T.shape), M.T, -vM))\n",
    "    L = np.vstack((L1, L2))\n",
    "\n",
    "    # SVD\n",
    "    U,S,V  = np.linalg.svd(L,full_matrices=False)\n",
    "    h = V[-1] # eignevector associated with smallest singular value in S, which is the last vector in V\n",
    "    H = h.reshape(3,3)\n",
    "\n",
    "    return H"
   ]
  },
  {
   "cell_type": "code",
   "execution_count": 6,
   "metadata": {
    "collapsed": false
   },
   "outputs": [],
   "source": [
    "H_dict = {}\n",
    "for i in range(len(u_meas)):\n",
    "    H_dict[i] = estimateHomography(cc, u_meas[i], v_meas[i], X, Y)"
   ]
  },
  {
   "cell_type": "code",
   "execution_count": 7,
   "metadata": {
    "collapsed": true
   },
   "outputs": [],
   "source": [
    "def getCameraIntrinsics(cc, H):\n",
    "    V = np.zeros([1,6])\n",
    "\n",
    "    for _,Hmat in H.iteritems():\n",
    "        h1 = Hmat.T[0]\n",
    "        h2 = Hmat.T[1]\n",
    "        h3 = Hmat.T[2]\n",
    "\n",
    "        v_11 = [h1[0]*h1[0], h1[0]*h1[1]+h1[1]*h1[0], h1[1]*h1[1], h1[2]*h1[0]+h1[0]*h1[2], h1[2]*h1[1]+h1[1]*h1[2], h1[2]*h1[2]]\n",
    "        v_22 = [h2[0]*h2[0], h2[0]*h2[1]+h2[1]*h2[0], h2[1]*h2[1], h2[2]*h2[0]+h2[0]*h2[2], h2[2]*h2[1]+h2[1]*h2[2], h2[2]*h2[2]]\n",
    "        v_12 = [h1[0]*h2[0], h1[0]*h2[1]+h1[1]*h2[0], h1[1]*h2[1], h1[2]*h2[0]+h1[0]*h2[2], h1[2]*h2[1]+h1[1]*h2[2], h1[2]*h2[2]]\n",
    "\n",
    "        if V.shape[0] < 2:\n",
    "            V = np.vstack((np.array(v_12), np.array(v_11)-np.array(v_22)))\n",
    "        else:\n",
    "            V2 = np.vstack((np.array(v_12), np.array(v_11)-np.array(v_22)))\n",
    "            V = np.vstack((V,V2))\n",
    "\n",
    "    U,S,V_ = np.linalg.svd(V,full_matrices=False)\n",
    "    b = V_[-1]\n",
    "\n",
    "    B = np.array([\n",
    "        [b[0], b[1], b[3]],\n",
    "        [b[1], b[2], b[4]],\n",
    "        [b[3], b[4], b[5]]\n",
    "    ])\n",
    "\n",
    "    v0 = (B[0,1]*B[0,2] - B[0,0]*B[1,2])/(B[0,0]*B[1,1] - B[0,1]**2)\n",
    "    lam = B[2,2] - (B[0,2]**2 + v0*(B[0,1]*B[0,2] - B[0,0]*B[1,2]))/B[0,0]\n",
    "    alpha = np.sqrt(lam/B[0,0])\n",
    "    beta = np.sqrt(lam*B[0,0] / (B[0,0]*B[1,1] - B[0,1]**2))\n",
    "    gamma = -B[0,1]* alpha**2 * beta / lam\n",
    "    u0 = gamma*v0/alpha - B[0,2]*alpha**2 / lam\n",
    "\n",
    "    A = np.array([\n",
    "        [alpha, gamma, u0],\n",
    "        [0,     beta,  v0],\n",
    "        [0,     0,     1]\n",
    "    ])\n",
    "\n",
    "    print \"#########\"\n",
    "    print A\n",
    "\n",
    "    #pdb.set_trace()\n",
    "\n",
    "    return A"
   ]
  },
  {
   "cell_type": "code",
   "execution_count": 8,
   "metadata": {
    "collapsed": false
   },
   "outputs": [
    {
     "name": "stdout",
     "output_type": "stream",
     "text": [
      "#########\n",
      "[[  1.31777815e+03   4.00901096e+01   4.12505964e+02]\n",
      " [  0.00000000e+00   1.22400000e+03   2.93599285e+02]\n",
      " [  0.00000000e+00   0.00000000e+00   1.00000000e+00]]\n"
     ]
    }
   ],
   "source": [
    "A = getCameraIntrinsics(cc, H_dict)"
   ]
  },
  {
   "cell_type": "code",
   "execution_count": 9,
   "metadata": {
    "collapsed": true
   },
   "outputs": [],
   "source": [
    "def getExtrinsics(cc, H, A):\n",
    "\n",
    "    A_inv = np.linalg.inv(A)\n",
    "    lam = 1/np.linalg.norm(A_inv.dot(H.T[0]))\n",
    "    r1 = lam*A_inv.dot(H.T[0])\n",
    "    r2 = lam*A_inv.dot(H.T[1])\n",
    "    r3 = np.cross(r1,r2)\n",
    "    t = lam * A_inv.dot(H.T[2])\n",
    "    R_g = np.vstack((r1,r2,r3)).T\n",
    "\n",
    "    U,S,V = np.linalg.svd(R_g,full_matrices=False)\n",
    "    R = U.dot(V)\n",
    "\n",
    "    return R, t"
   ]
  },
  {
   "cell_type": "code",
   "execution_count": 10,
   "metadata": {
    "collapsed": true
   },
   "outputs": [],
   "source": [
    "R_dict = {}\n",
    "t_dict = {}\n",
    "for i in range(len(u_meas)):\n",
    "    R_dict[i], t_dict[i] = getExtrinsics(cc, H_dict[i], A)"
   ]
  },
  {
   "cell_type": "code",
   "execution_count": 11,
   "metadata": {
    "collapsed": true
   },
   "outputs": [],
   "source": [
    "def transformWorld2NormImageUndist(cc, X, Y, Z, R, t):\n",
    "    \"\"\"\n",
    "    Note: The transformation functions should only process one chessboard at a time!\n",
    "    This means X, Y, Z, R, t should be individual arrays\n",
    "    \"\"\"\n",
    "\n",
    "    R_t = np.hstack((R,np.array([t]).T))\n",
    "    XYZ_W = np.vstack((X,Y,Z,np.ones(X.shape))).T # homogeneous world frame coordinates\n",
    "    XYZ_C = R_t.dot(XYZ_W.T) # camera frame coordinates\n",
    "    #xyz_c = A.dot(R_t.dot(XYZ_W.T))\n",
    "    x = XYZ_C[0]/XYZ_C[2]\n",
    "    y = XYZ_C[1]/XYZ_C[2]\n",
    "\n",
    "    return x, y"
   ]
  },
  {
   "cell_type": "code",
   "execution_count": 12,
   "metadata": {
    "collapsed": true
   },
   "outputs": [],
   "source": [
    "X_big = np.repeat(np.array([X]),cc.n_chessboards,axis=0)\n",
    "Y_big = np.repeat(np.array([Y]),cc.n_chessboards,axis=0)\n",
    "Z = np.zeros(X_big[0].shape)"
   ]
  },
  {
   "cell_type": "code",
   "execution_count": 13,
   "metadata": {
    "collapsed": true
   },
   "outputs": [],
   "source": [
    "def transformWorld2PixImageUndist(cc, X, Y, Z, R, t, A):\n",
    "    R_t = np.hstack((R,np.array([t]).T))\n",
    "    #XYZ_W = np.vstack((X,Y,Z,[1 for _ in X])).T # homogeneous world frame coordinates\n",
    "    XYZ_W = np.vstack((X,Y,Z,np.ones(X.shape))).T\n",
    "\n",
    "    xyz_c = A.dot(R_t.dot(XYZ_W.T))\n",
    "    u = xyz_c[0]/xyz_c[2]\n",
    "    v = xyz_c[1]/xyz_c[2]\n",
    "\n",
    "    return u, v"
   ]
  },
  {
   "cell_type": "code",
   "execution_count": 14,
   "metadata": {
    "collapsed": false
   },
   "outputs": [
    {
     "data": {
      "image/png": "[encoded data removed]",
      "text/plain": [
       "<matplotlib.figure.Figure at 0x7fc09ebedcd0>"
      ]
     },
     "metadata": {},
     "output_type": "display_data"
    }
   ],
   "source": [
    "u, v = transformWorld2PixImageUndist(cc, X_big[0], Y_big[0], Z, R_dict[0], t_dict[0], A)\n",
    "plt.scatter(u,v)\n",
    "plt.hold=True\n",
    "plt.scatter(u_meas[0],v_meas[0],color=\"red\")\n",
    "#plt.xlim([0,700])\n",
    "#plt.ylim([0,600])\n",
    "plt.show()"
   ]
  },
  {
   "cell_type": "code",
   "execution_count": 15,
   "metadata": {
    "collapsed": true
   },
   "outputs": [],
   "source": [
    "    def transformWorld2NormImageDist(self, X, Y, Z, R, t, k):\n",
    "        R_t = np.hstack((R,np.array([t]).T))\n",
    "        XYZ_W = np.vstack((X,Y,Z,np.ones(X.shape))).T # homogeneous world frame coordinates\n",
    "        XYZ_C = R_t.dot(XYZ_W.T) # camera frame coordinates\n",
    "\n",
    "        x = XYZ_C[0]/XYZ_C[2]\n",
    "        y = XYZ_C[1]/XYZ_C[2]\n",
    "\n",
    "        x_br = x + x*(k[0]*(x**2 + y**2) + k[1]*(x**2 + y**2)**2)\n",
    "        y_br = y + y*(k[0]*(x**2 + y**2) + k[1]*(x**2 + y**2)**2)\n",
    "\n",
    "        return x_br, y_br"
   ]
  },
  {
   "cell_type": "code",
   "execution_count": 16,
   "metadata": {
    "collapsed": true
   },
   "outputs": [],
   "source": [
    "    def transformWorld2PixImageDist(self, X, Y, Z, R, t, A, k):\n",
    "        R_t = np.hstack((R,np.array([t]).T))\n",
    "        #XYZ_W = np.vstack((X,Y,Z,[1 for _ in X])).T # homogeneous world frame coordinates\n",
    "        XYZ_W = np.vstack((X,Y,Z,np.ones(X.shape))).T\n",
    "\n",
    "        XYZ_C = R_t.dot(XYZ_W.T) # camera frame coordinates\n",
    "\n",
    "        # normalize\n",
    "        XYZ_C[0] = XYZ_C[0]/XYZ_C[2]\n",
    "        XYZ_C[1] = XYZ_C[1]/XYZ_C[2]\n",
    "        XYZ_C[2] = XYZ_C[2]/XYZ_C[2]\n",
    "\n",
    "        x = XYZ_C[0]\n",
    "        y = XYZ_C[1]\n",
    "\n",
    "        uv = A.dot(XYZ_C)\n",
    "\n",
    "        u = uv[0]\n",
    "        v = uv[1]\n",
    "\n",
    "        u_0 = A[0,2]\n",
    "        v_0 = A[1,2]\n",
    "\n",
    "        u_br = u + (u - u_0)*(k[0]*(x**2 + y**2) + k[1]*(x**2 + y**2)**2)\n",
    "        v_br = v + (v - v_0)*(k[0]*(x**2 + y**2) + k[1]*(x**2 + y**2)**2)\n",
    "\n",
    "        return u_br, v_br"
   ]
  },
  {
   "cell_type": "code",
   "execution_count": 17,
   "metadata": {
    "collapsed": true
   },
   "outputs": [],
   "source": [
    "k = np.array([1,1])"
   ]
  },
  {
   "cell_type": "code",
   "execution_count": 18,
   "metadata": {
    "collapsed": false
   },
   "outputs": [],
   "source": [
    "u_br, v_br = transformWorld2PixImageDist(cc, X_big[0], Y_big[0], Z, R_dict[0], t_dict[0], A, k)"
   ]
  },
  {
   "cell_type": "code",
   "execution_count": 19,
   "metadata": {
    "collapsed": true
   },
   "outputs": [],
   "source": [
    "    def estimateLensDistortion(self, u_meas, v_meas, X, Y, R, t, A):\n",
    "        u_0 = A[0,2]\n",
    "        v_0 = A[1,2]\n",
    "\n",
    "        Z = np.zeros(X[0].shape)\n",
    "\n",
    "        D = np.zeros([2*len(u_meas[0]),2])\n",
    "        d = np.zeros([2*len(u_meas[0]),1])\n",
    "\n",
    "        for i in range(len(u_meas)):\n",
    "            x,y = transformWorld2NormImageUndist(cc, X[i], Y[i], Z, R[i], t[i])\n",
    "            u,v = transformWorld2PixImageUndist(cc, X[i], Y[i], Z, R[i], t[i], A)\n",
    "\n",
    "            if i == 1:\n",
    "                D_1 = np.vstack(((u - u_0) * (x**2 + y**2), (u - u_0) * (x**2 + y**2)**2)).T\n",
    "                D_2 = np.vstack(((v - v_0) * (x**2 + y**2), (v - v_0) * (x**2 + y**2)**2)).T\n",
    "                D = np.vstack((D_1,D_2))\n",
    "                d = np.hstack(([u_meas[i]-u], [v_meas[i]-v])).T\n",
    "\n",
    "            else:\n",
    "                D_1 = np.vstack(((u - u_0) * (x**2 + y**2), (u - u_0) * (x**2 + y**2)**2)).T\n",
    "                D_2 = np.vstack(((v - v_0) * (x**2 + y**2), (v - v_0) * (x**2 + y**2)**2)).T\n",
    "                # stack with previous matrices\n",
    "                D = np.vstack((D,D_1,D_2))\n",
    "                d = np.vstack((d, np.hstack(([u_meas[i]-u], [v_meas[i]-v])).T))\n",
    "\n",
    "        k = np.linalg.inv(D.T.dot(D)).dot(D.T).dot(d)\n",
    "\n",
    "        return k"
   ]
  },
  {
   "cell_type": "code",
   "execution_count": 20,
   "metadata": {
    "collapsed": false
   },
   "outputs": [
    {
     "data": {
      "text/plain": [
       "array([[ -5.86167302e-03],\n",
       "       [ -5.90494967e+00]])"
      ]
     },
     "execution_count": 20,
     "metadata": {},
     "output_type": "execute_result"
    }
   ],
   "source": [
    "estimateLensDistortion(cc, u_meas, v_meas, X_big, Y_big, R_dict, t_dict, A)"
   ]
  },
  {
   "cell_type": "code",
   "execution_count": 21,
   "metadata": {
    "collapsed": true
   },
   "outputs": [],
   "source": [
    "x, y = transformWorld2NormImageUndist(cc, X_big[0], Y_big[0], Z, R_dict[0], t_dict[0])\n"
   ]
  },
  {
   "cell_type": "code",
   "execution_count": null,
   "metadata": {
    "collapsed": false
   },
   "outputs": [],
   "source": [
    "D_1 = np.vstack(((u - u_0) * (x**2 + y**2), (u - u_0) * (x**2 + y**2)**2)).T\n",
    "D_2 = np.vstack(((v - v_0) * (x**2 + y**2), (v - v_0) * (x**2 + y**2)**2)).T\n",
    "D = np.vstack((D_1,D_2))\n",
    "\n",
    "d = np.hstack(([u_br-u], [v_br-v])).T"
   ]
  },
  {
   "cell_type": "code",
   "execution_count": 24,
   "metadata": {
    "collapsed": false
   },
   "outputs": [
    {
     "name": "stdout",
     "output_type": "stream",
     "text": [
      "0 (126, 2)\n",
      "1 (252, 2)\n",
      "2 (378, 2)\n",
      "3 (504, 2)\n",
      "4 (630, 2)\n",
      "5 (756, 2)\n",
      "6 (882, 2)\n",
      "7 (1008, 2)\n",
      "8 (1134, 2)\n",
      "9 (1260, 2)\n",
      "10 (1386, 2)\n",
      "11 (1512, 2)\n"
     ]
    }
   ],
   "source": [
    "u_0 = A[0,2]\n",
    "v_0 = A[1,2]\n",
    "\n",
    "Z = np.zeros(X_big[0].shape)\n",
    "\n",
    "for i in range(len(u_meas)):\n",
    "    x,y = transformWorld2NormImageUndist(cc, X_big[i], Y_big[i], Z, R_dict[i], t_dict[i])\n",
    "    u,v = transformWorld2PixImageUndist(cc, X_big[i], Y_big[i], Z, R_dict[i], t_dict[i], A)\n",
    "    \n",
    "    if i == 0:\n",
    "        D_1 = np.vstack(((u - u_0) * (x**2 + y**2), (u - u_0) * (x**2 + y**2)**2)).T\n",
    "        D_2 = np.vstack(((v - v_0) * (x**2 + y**2), (v - v_0) * (x**2 + y**2)**2)).T\n",
    "        D = np.vstack((D_1,D_2))\n",
    "        d = np.hstack(([u_meas[i]-u], [v_meas[i]-v])).T\n",
    "        \n",
    "    else:\n",
    "        D_1 = np.vstack(((u - u_0) * (x**2 + y**2), (u - u_0) * (x**2 + y**2)**2)).T\n",
    "        D_2 = np.vstack(((v - v_0) * (x**2 + y**2), (v - v_0) * (x**2 + y**2)**2)).T\n",
    "        # stack with previous matrices\n",
    "        D = np.vstack((D,D_1,D_2))\n",
    "        d = np.vstack((d, np.hstack(([u_meas[i]-u], [v_meas[i]-v])).T))\n",
    "        \n",
    "    print i, D.shape"
   ]
  },
  {
   "cell_type": "code",
   "execution_count": 42,
   "metadata": {
    "collapsed": false
   },
   "outputs": [
    {
     "data": {
      "text/plain": [
       "(1512, 1)"
      ]
     },
     "execution_count": 42,
     "metadata": {},
     "output_type": "execute_result"
    }
   ],
   "source": [
    "d.shape"
   ]
  },
  {
   "cell_type": "code",
   "execution_count": 38,
   "metadata": {
    "collapsed": false
   },
   "outputs": [
    {
     "data": {
      "text/plain": [
       "array([[-0.16236883],\n",
       "       [-2.57257792]])"
      ]
     },
     "execution_count": 38,
     "metadata": {},
     "output_type": "execute_result"
    }
   ],
   "source": [
    "#k_guess = np.linalg.inv(D.T.dot(D)).dot(D.T).dot(d)\n",
    "k_guess = np.dot(np.linalg.pinv(D),d)\n",
    "k_guess"
   ]
  },
  {
   "cell_type": "code",
   "execution_count": 28,
   "metadata": {
    "collapsed": false
   },
   "outputs": [
    {
     "ename": "ValueError",
     "evalue": "all the input arrays must have same number of dimensions",
     "output_type": "error",
     "traceback": [
      "\u001b[0;31m---------------------------------------------------------------------------\u001b[0m",
      "\u001b[0;31mValueError\u001b[0m                                Traceback (most recent call last)",
      "\u001b[0;32m<ipython-input-28-db7070354ce3>\u001b[0m in \u001b[0;36m<module>\u001b[0;34m()\u001b[0m\n\u001b[0;32m----> 1\u001b[0;31m \u001b[0mnp\u001b[0m\u001b[0;34m.\u001b[0m\u001b[0mhstack\u001b[0m\u001b[0;34m(\u001b[0m\u001b[0;34m[\u001b[0m\u001b[0mk_guess\u001b[0m\u001b[0;34m.\u001b[0m\u001b[0mT\u001b[0m\u001b[0;34m,\u001b[0m\u001b[0;36m0\u001b[0m\u001b[0;34m,\u001b[0m\u001b[0;36m0\u001b[0m\u001b[0;34m]\u001b[0m\u001b[0;34m)\u001b[0m\u001b[0;34m\u001b[0m\u001b[0m\n\u001b[0m",
      "\u001b[0;32m/usr/lib/python2.7/dist-packages/numpy/core/shape_base.pyc\u001b[0m in \u001b[0;36mhstack\u001b[0;34m(tup)\u001b[0m\n\u001b[1;32m    278\u001b[0m         \u001b[0;32mreturn\u001b[0m \u001b[0m_nx\u001b[0m\u001b[0;34m.\u001b[0m\u001b[0mconcatenate\u001b[0m\u001b[0;34m(\u001b[0m\u001b[0marrs\u001b[0m\u001b[0;34m,\u001b[0m \u001b[0;36m0\u001b[0m\u001b[0;34m)\u001b[0m\u001b[0;34m\u001b[0m\u001b[0m\n\u001b[1;32m    279\u001b[0m     \u001b[0;32melse\u001b[0m\u001b[0;34m:\u001b[0m\u001b[0;34m\u001b[0m\u001b[0m\n\u001b[0;32m--> 280\u001b[0;31m         \u001b[0;32mreturn\u001b[0m \u001b[0m_nx\u001b[0m\u001b[0;34m.\u001b[0m\u001b[0mconcatenate\u001b[0m\u001b[0;34m(\u001b[0m\u001b[0marrs\u001b[0m\u001b[0;34m,\u001b[0m \u001b[0;36m1\u001b[0m\u001b[0;34m)\u001b[0m\u001b[0;34m\u001b[0m\u001b[0m\n\u001b[0m\u001b[1;32m    281\u001b[0m \u001b[0;34m\u001b[0m\u001b[0m\n\u001b[1;32m    282\u001b[0m \u001b[0;32mdef\u001b[0m \u001b[0mstack\u001b[0m\u001b[0;34m(\u001b[0m\u001b[0marrays\u001b[0m\u001b[0;34m,\u001b[0m \u001b[0maxis\u001b[0m\u001b[0;34m=\u001b[0m\u001b[0;36m0\u001b[0m\u001b[0;34m)\u001b[0m\u001b[0;34m:\u001b[0m\u001b[0;34m\u001b[0m\u001b[0m\n",
      "\u001b[0;31mValueError\u001b[0m: all the input arrays must have same number of dimensions"
     ]
    }
   ],
   "source": [
    "np.hstack([k_guess.T,0,0])"
   ]
  },
  {
   "cell_type": "code",
   "execution_count": 30,
   "metadata": {
    "collapsed": false
   },
   "outputs": [
    {
     "data": {
      "text/plain": [
       "(2,)"
      ]
     },
     "execution_count": 30,
     "metadata": {},
     "output_type": "execute_result"
    }
   ],
   "source": [
    "np.zeros(2).shape"
   ]
  },
  {
   "cell_type": "code",
   "execution_count": 46,
   "metadata": {
    "collapsed": false
   },
   "outputs": [],
   "source": [
    "k_guess = k_guess.reshape((2,))"
   ]
  },
  {
   "cell_type": "code",
   "execution_count": 47,
   "metadata": {
    "collapsed": false
   },
   "outputs": [
    {
     "data": {
      "text/plain": [
       "array([-0.16236883, -2.57257792])"
      ]
     },
     "execution_count": 47,
     "metadata": {},
     "output_type": "execute_result"
    }
   ],
   "source": [
    "k_guess"
   ]
  },
  {
   "cell_type": "code",
   "execution_count": null,
   "metadata": {
    "collapsed": true
   },
   "outputs": [],
   "source": []
  }
 ],
 "metadata": {
  "kernelspec": {
   "display_name": "Python 2",
   "language": "python",
   "name": "python2"
  },
  "language_info": {
   "codemirror_mode": {
    "name": "ipython",
    "version": 2
   },
   "file_extension": ".py",
   "mimetype": "text/x-python",
   "name": "python",
   "nbconvert_exporter": "python",
   "pygments_lexer": "ipython2",
   "version": "2.7.12"
  }
 },
 "nbformat": 4,
 "nbformat_minor": 2
}
