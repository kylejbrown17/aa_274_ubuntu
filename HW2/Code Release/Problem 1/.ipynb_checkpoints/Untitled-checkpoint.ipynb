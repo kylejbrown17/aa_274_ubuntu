{
 "cells": [
  {
   "cell_type": "code",
   "execution_count": null,
   "metadata": {
    "collapsed": true
   },
   "outputs": [],
   "source": [
    "import matplotlib.pyplot as plt\n",
    "import numpy as np\n",
    "import pdb\n",
    "\n",
    "from cam_calibrator import CameraCalibrator"
   ]
  },
  {
   "cell_type": "code",
   "execution_count": 5,
   "metadata": {
    "collapsed": false
   },
   "outputs": [
    {
     "name": "stdout",
     "output_type": "stream",
     "text": [
      "*** Added sample 1, p_x = 0.516, p_y = 0.498, p_size = 0.370, skew = 0.517\n",
      "*** Added sample 2, p_x = 0.565, p_y = 0.466, p_size = 0.554, skew = 0.210\n",
      "*** Added sample 3, p_x = 0.352, p_y = 0.516, p_size = 0.472, skew = 0.020\n",
      "*** Added sample 4, p_x = 0.747, p_y = 0.302, p_size = 0.292, skew = 0.073\n",
      "*** Added sample 5, p_x = 0.564, p_y = 0.556, p_size = 0.386, skew = 0.874\n",
      "*** Added sample 6, p_x = 0.473, p_y = 0.431, p_size = 0.327, skew = 0.433\n",
      "*** Added sample 7, p_x = 0.461, p_y = 0.633, p_size = 0.447, skew = 0.464\n",
      "*** Added sample 8, p_x = 0.500, p_y = 0.350, p_size = 0.466, skew = 0.309\n",
      "*** Added sample 9, p_x = 0.566, p_y = 0.512, p_size = 0.397, skew = 0.072\n",
      "*** Added sample 10, p_x = 0.505, p_y = 0.474, p_size = 0.467, skew = 0.012\n",
      "*** Added sample 11, p_x = 0.490, p_y = 0.553, p_size = 0.474, skew = 0.169\n",
      "*** Added sample 12, p_x = 0.578, p_y = 0.517, p_size = 0.420, skew = 0.270\n"
     ]
    }
   ],
   "source": [
    "cc = CameraCalibrator()\n",
    "\n",
    "cal_img_path = './webcam_12'  # Location of calibration images\n",
    "name = 'webcam'               # Name of the camera\n",
    "n_corners = [7, 9]            # Corner grid dimensions\n",
    "square_length = 0.0205        # Chessboard square length in meters\n",
    "\n",
    "display_flag = False\n",
    "cc.loadImages(cal_img_path, name, n_corners, square_length, display_flag)\n",
    "\n",
    "u_meas, v_meas = cc.getMeasuredPixImageCoord()"
   ]
  },
  {
   "cell_type": "markdown",
   "metadata": {},
   "source": [
    "## Problem 1.1 - gen world coordinates"
   ]
  },
  {
   "cell_type": "code",
   "execution_count": 180,
   "metadata": {
    "collapsed": false
   },
   "outputs": [],
   "source": [
    "#X = [(cc.n_corners_x - 1) * cc.d_square -cc.d_square*float(i%cc.n_corners_x) for i in range(len(u_meas[0]))] # from bottom right corner \n",
    "#Y = [cc.d_square*float(i/cc.n_corners_x) for i in range(len(v_meas[0]))]\n",
    "\n",
    "# origin = top left, x increases to the right, y increases down\n",
    "X = [cc.d_square*float(i%cc.n_corners_x) for i in range(len(u_meas[0]))] # from bottom right corner \n",
    "Y = [cc.d_square*float(i/cc.n_corners_x) for i in range(len(v_meas[0]))]"
   ]
  },
  {
   "cell_type": "markdown",
   "metadata": {},
   "source": [
    "## 1.1 - Estimate H"
   ]
  },
  {
   "cell_type": "code",
   "execution_count": 181,
   "metadata": {
    "collapsed": false
   },
   "outputs": [],
   "source": [
    "M = np.vstack((X, Y, [1.0 for _ in range(len(X))]))"
   ]
  },
  {
   "cell_type": "code",
   "execution_count": 182,
   "metadata": {
    "collapsed": false
   },
   "outputs": [],
   "source": [
    "u = np.dot(np.array([u_meas[0]]).T, np.ones([1,3]))\n",
    "v = np.dot(np.array([v_meas[0]]).T, np.ones([1,3]))\n",
    "uM = -u*M.T\n",
    "vM = -v*M.T"
   ]
  },
  {
   "cell_type": "code",
   "execution_count": 183,
   "metadata": {
    "collapsed": false
   },
   "outputs": [],
   "source": [
    "L1 = np.hstack((M.T, np.zeros(M.T.shape), uM))\n",
    "L2 = np.hstack((np.zeros(M.T.shape), M.T, vM))\n",
    "L = np.vstack((L1,L2))\n",
    "L.shape"
   ]
  },
  {
   "cell_type": "code",
   "execution_count": 185,
   "metadata": {
    "collapsed": true
   },
   "outputs": [],
   "source": [
    "# #SVD:  L == U * S * V\n",
    "U,S,V  = np.linalg.svd(L,full_matrices=False)\n",
    "#L_recon = np.dot(U, np.diag(S).dot(V))"
   ]
  },
  {
   "cell_type": "code",
   "execution_count": 187,
   "metadata": {
    "collapsed": false
   },
   "outputs": [],
   "source": [
    "h = V[-1] # eignevector associated with smallest singular value in S, which is the last vector in V"
   ]
  },
  {
   "cell_type": "code",
   "execution_count": 188,
   "metadata": {
    "collapsed": false
   },
   "outputs": [],
   "source": [
    "H = h.reshape(3,3)"
   ]
  },
  {
   "cell_type": "code",
   "execution_count": 189,
   "metadata": {
    "collapsed": false
   },
   "outputs": [
    {
     "data": {
      "text/plain": [
       "array([[ -3.94841203e-01,  -6.61312666e-01,   2.41062973e-01],\n",
       "       [ -3.27535989e-01,   4.76329715e-01,   1.20351463e-01],\n",
       "       [  3.90625157e-04,  -1.54452864e-04,   3.91028866e-04]])"
      ]
     },
     "execution_count": 189,
     "metadata": {},
     "output_type": "execute_result"
    }
   ],
   "source": [
    "H"
   ]
  },
  {
   "cell_type": "code",
   "execution_count": 147,
   "metadata": {
    "collapsed": false
   },
   "outputs": [],
   "source": [
    "# Test (x should be the vector with the smallest norm)\n",
    "x = V[8]\n",
    "# should be smallest norm\n",
    "x.T.dot(L.T.dot(L).dot(x))"
   ]
  },
  {
   "cell_type": "code",
   "execution_count": 190,
   "metadata": {
    "collapsed": true
   },
   "outputs": [],
   "source": [
    "def estimateHomography(u_meas, v_meas, X, Y):\n",
    "    # form matrix L\n",
    "    M = np.vstack((X, Y, [1.0 for _ in range(len(X))]))\n",
    "    \n",
    "    u = np.dot(np.array([u_meas]).T, np.ones([1,3]))\n",
    "    v = np.dot(np.array([v_meas]).T, np.ones([1,3]))\n",
    "    uM = u*M.T\n",
    "    vM = v*M.T\n",
    "    \n",
    "    L1 = np.hstack((M.T, np.zeros(M.T.shape), -uM))\n",
    "    L2 = np.hstack((np.zeros(M.T.shape), M.T, -vM))\n",
    "    L = np.vstack((L1, L2))\n",
    "    \n",
    "    # SVD\n",
    "    U,S,V  = np.linalg.svd(L,full_matrices=False)\n",
    "    h = V[-1] # eignevector associated with smallest singular value in S, which is the last vector in V\n",
    "    H = h.reshape(3,3)\n",
    "    \n",
    "    return H"
   ]
  },
  {
   "cell_type": "code",
   "execution_count": 191,
   "metadata": {
    "collapsed": false
   },
   "outputs": [
    {
     "data": {
      "text/plain": [
       "array([[ -3.94841203e-01,  -6.61312666e-01,   2.41062973e-01],\n",
       "       [ -3.27535989e-01,   4.76329715e-01,   1.20351463e-01],\n",
       "       [  3.90625157e-04,  -1.54452864e-04,   3.91028866e-04]])"
      ]
     },
     "execution_count": 191,
     "metadata": {},
     "output_type": "execute_result"
    }
   ],
   "source": [
    "estimateHomography(u_meas[0], v_meas[0], X, Y)"
   ]
  },
  {
   "cell_type": "code",
   "execution_count": 195,
   "metadata": {
    "collapsed": false
   },
   "outputs": [],
   "source": [
    "H_dict = {}\n",
    "for i in range(len(u_meas)):\n",
    "    H_dict[i] = estimateHomography(u_meas[i], v_meas[i], X, Y)"
   ]
  },
  {
   "cell_type": "code",
   "execution_count": 196,
   "metadata": {
    "collapsed": false
   },
   "outputs": [
    {
     "data": {
      "text/plain": [
       "{0: array([[ -3.94841203e-01,  -6.61312666e-01,   2.41062973e-01],\n",
       "        [ -3.27535989e-01,   4.76329715e-01,   1.20351463e-01],\n",
       "        [  3.90625157e-04,  -1.54452864e-04,   3.91028866e-04]]),\n",
       " 1: array([[ -7.01951942e-01,   1.16080758e-01,   1.55676965e-01],\n",
       "        [  1.98357279e-02,   6.84149401e-01,   3.31580153e-02],\n",
       "        [  5.07618366e-05,   2.04924974e-04,   2.30544492e-04]]),\n",
       " 2: array([[ -7.15375433e-01,   1.60116446e-01,  -5.00792513e-02],\n",
       "        [  1.44772679e-01,   6.47786310e-01,  -1.39665526e-01],\n",
       "        [ -8.19765419e-05,  -3.84307068e-06,  -2.91024097e-04]]),\n",
       " 3: array([[ -6.84755400e-01,  -1.05801230e-01,  -2.20380526e-01],\n",
       "        [  1.44754870e-01,   6.24391474e-01,  -2.46027513e-01],\n",
       "        [  1.73362869e-04,  -2.04107182e-04,  -5.19792064e-04]]),\n",
       " 4: array([[  7.10778099e-01,   3.84169120e-01,  -2.48065891e-01],\n",
       "        [ -5.99871308e-02,  -5.26452391e-01,  -7.01495644e-02],\n",
       "        [ -2.64886436e-04,   3.72721065e-04,  -3.86942480e-04]]),\n",
       " 5: array([[  6.74072795e-01,   2.79411575e-02,  -2.02603440e-01],\n",
       "        [  2.15944018e-01,  -6.68921046e-01,  -9.85366138e-02],\n",
       "        [  4.24494254e-04,   6.94496091e-05,  -4.13414470e-04]]),\n",
       " 6: array([[  7.77381689e-01,  -2.04522074e-01,   6.64047497e-02],\n",
       "        [ -1.55221987e-02,  -5.79546281e-01,   1.15428729e-01],\n",
       "        [  3.35478403e-04,   1.87940335e-04,   2.65059851e-04]]),\n",
       " 7: array([[  7.26449228e-01,  -2.26782920e-02,   5.60500851e-02],\n",
       "        [  2.96207440e-02,  -6.70271111e-01,   1.35921777e-01],\n",
       "        [  1.59532545e-04,  -1.38293308e-04,   2.78386982e-04]]),\n",
       " 8: array([[  3.93520626e-01,   4.21031505e-01,  -2.28930804e-01],\n",
       "        [  3.47409693e-01,  -6.95943985e-01,  -1.02141404e-01],\n",
       "        [ -3.83085240e-04,  -8.62297367e-05,  -3.59949937e-04]]),\n",
       " 9: array([[ -7.29642847e-01,   1.20260864e-02,  -5.56764274e-02],\n",
       "        [ -1.08453805e-01,   6.62344307e-01,  -1.17959524e-01],\n",
       "        [ -3.16345329e-04,  -3.80707990e-05,  -2.52374701e-04]]),\n",
       " 10: array([[ -6.64034376e-01,   7.49517752e-02,   1.69069771e-01],\n",
       "        [  1.05979523e-02,   7.23169023e-01,   4.20727128e-02],\n",
       "        [  1.57576459e-04,   1.43590672e-04,   2.82485017e-04]]),\n",
       " 11: array([[ -4.50855569e-01,   1.22355877e-01,   1.84743814e-01],\n",
       "        [  4.55095027e-02,   8.62055852e-01,   4.91556516e-02],\n",
       "        [  4.64938471e-04,   1.42978032e-04,   3.11494318e-04]])}"
      ]
     },
     "execution_count": 196,
     "metadata": {},
     "output_type": "execute_result"
    }
   ],
   "source": [
    "H_dict"
   ]
  },
  {
   "cell_type": "markdown",
   "metadata": {},
   "source": [
    "## 1.3 - estimate camera intrinsics"
   ]
  },
  {
   "cell_type": "code",
   "execution_count": 243,
   "metadata": {
    "collapsed": true
   },
   "outputs": [],
   "source": [
    "    def getCameraIntrinsics(H):\n",
    "        V = np.zeros([1,6])\n",
    "\n",
    "        for _,Hmat in H.iteritems():\n",
    "            h1 = Hmat.T[0]\n",
    "            h2 = Hmat.T[1]\n",
    "            h3 = Hmat.T[2]\n",
    "\n",
    "            v_11 = [h1[0]*h1[0], h1[0]*h1[1]+h1[1]*h1[0], h1[1]*h1[1], h1[2]*h1[0]+h1[0]*h1[2], h1[2]*h1[1]+h1[1]*h1[2], h1[2]*h1[2]]\n",
    "            v_22 = [h2[0]*h2[0], h2[0]*h2[1]+h2[1]*h2[0], h2[1]*h2[1], h2[2]*h2[0]+h2[0]*h2[2], h2[2]*h2[1]+h2[1]*h2[2], h2[2]*h2[2]]\n",
    "            v_12 = [h1[0]*h2[0], h1[0]*h2[1]+h1[1]*h2[0], h1[1]*h2[1], h1[2]*h2[0]+h1[0]*h2[2], h1[2]*h2[1]+h1[1]*h2[2], h1[2]*h2[2]]\n",
    "\n",
    "            if V.shape[0] < 2:\n",
    "                V = np.vstack((np.array(v_12), np.array(v_11)-np.array(v_22)))\n",
    "            else:\n",
    "                V2 = np.vstack((np.array(v_12), np.array(v_11)-np.array(v_22)))\n",
    "                V = np.vstack((V,V2))\n",
    "\n",
    "        U,S,V_ = np.linalg.svd(V,full_matrices=False)\n",
    "        b = V_[-1]\n",
    "\n",
    "        B = np.array([\n",
    "            [b[0], b[1], b[3]],\n",
    "            [b[1], b[2], b[4]],\n",
    "            [b[3], b[4], b[5]]\n",
    "        ])\n",
    "\n",
    "        v0 = (B[0,0]*B[0,2] - B[0,0]*B[1,2])/(B[0,0]*B[1,1] - B[0,1]**2)\n",
    "        lam = B[2,2] - (B[0,2]**2 + v_0*(B[0,1]*B[0,2] - B[0,0]*B[1,2]))/B[0,0]\n",
    "        alpha = np.sqrt(lam/B[0,0])\n",
    "        beta = np.sqrt(lam*B[0,0] / (B[0,0]*B[1,1] - B[0,1]**2))\n",
    "        gamma = -B[0,1]* alpha**2 * beta / lam\n",
    "        u0 = gamma*v0/alpha - B[0,2]*alpha**2 / lam\n",
    "\n",
    "        A = np.array([\n",
    "            [alpha, gamma, u0],\n",
    "            [0,     beta,  v0],\n",
    "            [0,     0,     1]\n",
    "        ])\n",
    "\n",
    "        return A"
   ]
  },
  {
   "cell_type": "code",
   "execution_count": 200,
   "metadata": {
    "collapsed": false
   },
   "outputs": [
    {
     "data": {
      "text/plain": [
       "array([[ -3.94841203e-01,  -6.61312666e-01,   2.41062973e-01],\n",
       "       [ -3.27535989e-01,   4.76329715e-01,   1.20351463e-01],\n",
       "       [  3.90625157e-04,  -1.54452864e-04,   3.91028866e-04]])"
      ]
     },
     "execution_count": 200,
     "metadata": {},
     "output_type": "execute_result"
    }
   ],
   "source": [
    "H = H_dict[0]\n",
    "H"
   ]
  },
  {
   "cell_type": "code",
   "execution_count": 212,
   "metadata": {
    "collapsed": false
   },
   "outputs": [
    {
     "data": {
      "text/plain": [
       "array([[  2.61113488e-01,   2.85291007e-02,  -1.56015124e-01,\n",
       "         -1.97341010e-04,   2.36655241e-04,  -6.03331741e-08],\n",
       "       [ -2.81434867e-01,   8.88655155e-01,  -1.19610173e-01,\n",
       "         -5.12753084e-04,  -1.08746617e-04,   1.28732326e-07]])"
      ]
     },
     "execution_count": 212,
     "metadata": {},
     "output_type": "execute_result"
    }
   ],
   "source": [
    "#v_ij = [hi1*hj1, hi1*hj2+hi2*hj1, hi2*hj2, hi3*hj1 + hi1*hj3, hi3*hj2 + hi2*hj3, hi3*hj3]\n",
    "h1 = H.T[0]\n",
    "h2 = H.T[1]\n",
    "h3 = H.T[2]\n",
    "\n",
    "v_11 = [h1[0]*h1[0], h1[0]*h1[1]+h1[1]*h1[0], h1[1]*h1[1], h1[2]*h1[0]+h1[0]*h1[2], h1[2]*h1[1]+h1[1]*h1[2], h1[2]*h1[2]]\n",
    "v_22 = [h2[0]*h2[0], h2[0]*h2[1]+h2[1]*h2[0], h2[1]*h2[1], h2[2]*h2[0]+h2[0]*h2[2], h2[2]*h2[1]+h2[1]*h2[2], h2[2]*h2[2]]\n",
    "v_12 = [h1[0]*h2[0], h1[0]*h2[1]+h1[1]*h2[0], h1[1]*h2[1], h1[2]*h2[0]+h1[0]*h2[2], h1[2]*h2[1]+h1[1]*h2[2], h1[2]*h2[2]]\n",
    "\n",
    "V = np.vstack((np.array(v_12), np.array(v_11)-np.array(v_22)))\n",
    "V"
   ]
  },
  {
   "cell_type": "code",
   "execution_count": 219,
   "metadata": {
    "collapsed": false
   },
   "outputs": [],
   "source": [
    "V = np.zeros([1,6])\n",
    "\n",
    "for _,H in H_dict.iteritems():\n",
    "    h1 = H.T[0]\n",
    "    h2 = H.T[1]\n",
    "    h3 = H.T[2]\n",
    "\n",
    "    v_11 = [h1[0]*h1[0], h1[0]*h1[1]+h1[1]*h1[0], h1[1]*h1[1], h1[2]*h1[0]+h1[0]*h1[2], h1[2]*h1[1]+h1[1]*h1[2], h1[2]*h1[2]]\n",
    "    v_22 = [h2[0]*h2[0], h2[0]*h2[1]+h2[1]*h2[0], h2[1]*h2[1], h2[2]*h2[0]+h2[0]*h2[2], h2[2]*h2[1]+h2[1]*h2[2], h2[2]*h2[2]]\n",
    "    v_12 = [h1[0]*h2[0], h1[0]*h2[1]+h1[1]*h2[0], h1[1]*h2[1], h1[2]*h2[0]+h1[0]*h2[2], h1[2]*h2[1]+h1[1]*h2[2], h1[2]*h2[2]]\n",
    "\n",
    "    if V.shape[0] < 2:\n",
    "        V = np.vstack((np.array(v_12), np.array(v_11)-np.array(v_22)))\n",
    "    else:\n",
    "        V2 = np.vstack((np.array(v_12), np.array(v_11)-np.array(v_22)))\n",
    "        V = np.vstack((V,V2))"
   ]
  },
  {
   "cell_type": "code",
   "execution_count": 224,
   "metadata": {
    "collapsed": false
   },
   "outputs": [],
   "source": [
    "U,S,V_ = np.linalg.svd(V,full_matrices=False)"
   ]
  },
  {
   "cell_type": "code",
   "execution_count": 231,
   "metadata": {
    "collapsed": false
   },
   "outputs": [
    {
     "data": {
      "text/plain": [
       "array([ -5.00168432e-07,   1.63821955e-08,  -5.80282958e-07,\n",
       "         2.01854944e-04,   1.63601697e-04,  -9.99999966e-01])"
      ]
     },
     "execution_count": 231,
     "metadata": {},
     "output_type": "execute_result"
    }
   ],
   "source": [
    "b = V_[-1]\n",
    "b"
   ]
  },
  {
   "cell_type": "code",
   "execution_count": 241,
   "metadata": {
    "collapsed": false
   },
   "outputs": [
    {
     "data": {
      "text/plain": [
       "array([[ -5.00168432e-07,   1.63821955e-08,   2.01854944e-04],\n",
       "       [  1.63821955e-08,  -5.80282958e-07,   1.63601697e-04],\n",
       "       [  2.01854944e-04,   1.63601697e-04,  -9.99999966e-01]])"
      ]
     },
     "execution_count": 241,
     "metadata": {},
     "output_type": "execute_result"
    }
   ],
   "source": [
    "B = np.array([\n",
    "    [b[0], b[1], b[3]],\n",
    "    [b[1], b[2], b[4]],\n",
    "    [b[3], b[4], b[5]]\n",
    "])\n",
    "B"
   ]
  },
  {
   "cell_type": "code",
   "execution_count": 239,
   "metadata": {
    "collapsed": true
   },
   "outputs": [],
   "source": [
    "v0 = (B[0,0]*B[0,2] - B[0,0]*B[1,2])/(B[0,0]*B[1,1] - B[0,1]**2)\n",
    "lam = B[2,2] - (B[0,2]**2 + v_0*(B[0,1]*B[0,2] - B[0,0]*B[1,2]))/B[0,0]\n",
    "alpha = np.sqrt(lam/B[0,0])\n",
    "beta = np.sqrt(lam*B[0,0] / (B[0,0]*B[1,1] - B[0,1]**2))\n",
    "gamma = -B[0,1]* alpha**2 * beta / lam\n",
    "u0 = gamma*v_0/alpha - B[0,2]*alpha**2 / lam"
   ]
  },
  {
   "cell_type": "code",
   "execution_count": 240,
   "metadata": {
    "collapsed": false
   },
   "outputs": [
    {
     "data": {
      "text/plain": [
       "array([[  1.36341820e+03,   4.14785942e+01,   4.01566579e+02],\n",
       "       [  0.00000000e+00,   1.26639213e+03,  -6.59827261e+01],\n",
       "       [  0.00000000e+00,   0.00000000e+00,   1.00000000e+00]])"
      ]
     },
     "execution_count": 240,
     "metadata": {},
     "output_type": "execute_result"
    }
   ],
   "source": [
    "A = np.array([[alpha, gamma, u0],\n",
    "             [0, beta, v0],\n",
    "             [0, 0, 1]])\n",
    "A"
   ]
  },
  {
   "cell_type": "code",
   "execution_count": null,
   "metadata": {
    "collapsed": true
   },
   "outputs": [],
   "source": []
  }
 ],
 "metadata": {
  "kernelspec": {
   "display_name": "Python 2",
   "language": "python",
   "name": "python2"
  },
  "language_info": {
   "codemirror_mode": {
    "name": "ipython",
    "version": 2
   },
   "file_extension": ".py",
   "mimetype": "text/x-python",
   "name": "python",
   "nbconvert_exporter": "python",
   "pygments_lexer": "ipython2",
   "version": "2.7.12"
  }
 },
 "nbformat": 4,
 "nbformat_minor": 2
}
