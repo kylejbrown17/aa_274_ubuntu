{
 "cells": [
  {
   "cell_type": "code",
   "execution_count": 1,
   "metadata": {
    "collapsed": true
   },
   "outputs": [],
   "source": [
    "import matplotlib.pyplot as plt\n",
    "import numpy as np\n",
    "import pdb\n",
    "\n",
    "from cam_calibrator import CameraCalibrator"
   ]
  },
  {
   "cell_type": "code",
   "execution_count": 2,
   "metadata": {
    "collapsed": false
   },
   "outputs": [
    {
     "name": "stdout",
     "output_type": "stream",
     "text": [
      "*** Added sample 1, p_x = 0.516, p_y = 0.498, p_size = 0.370, skew = 0.517\n",
      "*** Added sample 2, p_x = 0.565, p_y = 0.466, p_size = 0.554, skew = 0.210\n",
      "*** Added sample 3, p_x = 0.352, p_y = 0.516, p_size = 0.472, skew = 0.020\n",
      "*** Added sample 4, p_x = 0.747, p_y = 0.302, p_size = 0.292, skew = 0.073\n",
      "*** Added sample 5, p_x = 0.564, p_y = 0.556, p_size = 0.386, skew = 0.874\n",
      "*** Added sample 6, p_x = 0.473, p_y = 0.431, p_size = 0.327, skew = 0.433\n",
      "*** Added sample 7, p_x = 0.461, p_y = 0.633, p_size = 0.447, skew = 0.464\n",
      "*** Added sample 8, p_x = 0.500, p_y = 0.350, p_size = 0.466, skew = 0.309\n",
      "*** Added sample 9, p_x = 0.566, p_y = 0.512, p_size = 0.397, skew = 0.072\n",
      "*** Added sample 10, p_x = 0.505, p_y = 0.474, p_size = 0.467, skew = 0.012\n",
      "*** Added sample 11, p_x = 0.490, p_y = 0.553, p_size = 0.474, skew = 0.169\n",
      "*** Added sample 12, p_x = 0.578, p_y = 0.517, p_size = 0.420, skew = 0.270\n"
     ]
    }
   ],
   "source": [
    "cc = CameraCalibrator()\n",
    "\n",
    "cal_img_path = './webcam_12'  # Location of calibration images\n",
    "name = 'webcam'               # Name of the camera\n",
    "n_corners = [7, 9]            # Corner grid dimensions\n",
    "square_length = 0.0205        # Chessboard square length in meters\n",
    "\n",
    "display_flag = False\n",
    "cc.loadImages(cal_img_path, name, n_corners, square_length, display_flag)\n",
    "\n",
    "u_meas, v_meas = cc.getMeasuredPixImageCoord()"
   ]
  },
  {
   "cell_type": "markdown",
   "metadata": {},
   "source": [
    "## Problem 1.1 - gen world coordinates"
   ]
  },
  {
   "cell_type": "code",
   "execution_count": 3,
   "metadata": {
    "collapsed": false
   },
   "outputs": [],
   "source": [
    "#X = [(cc.n_corners_x - 1) * cc.d_square -cc.d_square*float(i%cc.n_corners_x) for i in range(len(u_meas[0]))] # from bottom right corner \n",
    "#Y = [cc.d_square*float(i/cc.n_corners_x) for i in range(len(v_meas[0]))]\n",
    "\n",
    "# origin = top left, x increases to the right, y increases down\n",
    "X = [cc.d_square*float(i%cc.n_corners_x) for i in range(len(u_meas[0]))] # from bottom right corner \n",
    "Y = [cc.d_square*float(i/cc.n_corners_x) for i in range(len(v_meas[0]))]"
   ]
  },
  {
   "cell_type": "markdown",
   "metadata": {},
   "source": [
    "## 1.1 - Estimate H"
   ]
  },
  {
   "cell_type": "code",
   "execution_count": 4,
   "metadata": {
    "collapsed": false
   },
   "outputs": [],
   "source": [
    "M = np.vstack((X, Y, [1.0 for _ in range(len(X))]))"
   ]
  },
  {
   "cell_type": "code",
   "execution_count": 5,
   "metadata": {
    "collapsed": false
   },
   "outputs": [],
   "source": [
    "u = np.dot(np.array([u_meas[1]]).T, np.ones([1,3]))\n",
    "v = np.dot(np.array([v_meas[1]]).T, np.ones([1,3]))\n",
    "uM = -u*M.T\n",
    "vM = -v*M.T"
   ]
  },
  {
   "cell_type": "code",
   "execution_count": 6,
   "metadata": {
    "collapsed": false
   },
   "outputs": [
    {
     "name": "stdout",
     "output_type": "stream",
     "text": [
      "[[  0.00000000e+00   0.00000000e+00   1.00000000e+00 ...,  -0.00000000e+00\n",
      "   -0.00000000e+00  -6.73394653e+02]\n",
      " [  2.05000000e-02   0.00000000e+00   1.00000000e+00 ...,  -1.25192964e+01\n",
      "   -0.00000000e+00  -6.10697388e+02]\n",
      " [  4.10000000e-02   0.00000000e+00   1.00000000e+00 ...,  -2.23543641e+01\n",
      "   -0.00000000e+00  -5.45228394e+02]\n",
      " ..., \n",
      " [  0.00000000e+00   0.00000000e+00   0.00000000e+00 ...,  -5.63540821e+01\n",
      "   -5.63540821e+01  -4.58163269e+02]\n",
      " [  0.00000000e+00   0.00000000e+00   0.00000000e+00 ...,  -6.55979805e+01\n",
      "   -5.62268405e+01  -4.57128784e+02]\n",
      " [  0.00000000e+00   0.00000000e+00   0.00000000e+00 ...,  -7.47379050e+01\n",
      "   -5.60534288e+01  -4.55718933e+02]]\n"
     ]
    }
   ],
   "source": [
    "L1 = np.hstack((M.T, np.zeros(M.T.shape), uM))\n",
    "L2 = np.hstack((np.zeros(M.T.shape), M.T, vM))\n",
    "L = np.vstack((L1,L2))\n",
    "print L"
   ]
  },
  {
   "cell_type": "code",
   "execution_count": 7,
   "metadata": {
    "collapsed": true
   },
   "outputs": [],
   "source": [
    "# #SVD:  L == U * S * V\n",
    "U,S,V  = np.linalg.svd(L,full_matrices=False)\n",
    "#L_recon = np.dot(U, np.diag(S).dot(V))"
   ]
  },
  {
   "cell_type": "code",
   "execution_count": 8,
   "metadata": {
    "collapsed": false
   },
   "outputs": [],
   "source": [
    "h = V[-1] # eignevector associated with smallest singular value in S, which is the last vector in V"
   ]
  },
  {
   "cell_type": "code",
   "execution_count": 9,
   "metadata": {
    "collapsed": false
   },
   "outputs": [],
   "source": [
    "H = h.reshape(3,3)"
   ]
  },
  {
   "cell_type": "code",
   "execution_count": 10,
   "metadata": {
    "collapsed": false
   },
   "outputs": [
    {
     "data": {
      "text/plain": [
       "array([[ -7.01951942e-01,   1.16080758e-01,   1.55676965e-01],\n",
       "       [  1.98357279e-02,   6.84149401e-01,   3.31580153e-02],\n",
       "       [  5.07618366e-05,   2.04924974e-04,   2.30544492e-04]])"
      ]
     },
     "execution_count": 10,
     "metadata": {},
     "output_type": "execute_result"
    }
   ],
   "source": [
    "H"
   ]
  },
  {
   "cell_type": "code",
   "execution_count": 11,
   "metadata": {
    "collapsed": false
   },
   "outputs": [
    {
     "data": {
      "text/plain": [
       "4.1713064438469355e-06"
      ]
     },
     "execution_count": 11,
     "metadata": {},
     "output_type": "execute_result"
    }
   ],
   "source": [
    "# Test (x should be the vector with the smallest norm)\n",
    "x = V[8]\n",
    "# should be smallest norm\n",
    "x.T.dot(L.T.dot(L).dot(x))"
   ]
  },
  {
   "cell_type": "code",
   "execution_count": null,
   "metadata": {
    "collapsed": false
   },
   "outputs": [],
   "source": []
  },
  {
   "cell_type": "code",
   "execution_count": 12,
   "metadata": {
    "collapsed": true
   },
   "outputs": [],
   "source": [
    "def estimateHomography(u_meas, v_meas, X, Y):\n",
    "    # form matrix L\n",
    "    M = np.vstack((X, Y, [1.0 for _ in range(len(X))]))\n",
    "    \n",
    "    u = np.dot(np.array([u_meas]).T, np.ones([1,3]))\n",
    "    v = np.dot(np.array([v_meas]).T, np.ones([1,3]))\n",
    "    uM = u*M.T\n",
    "    vM = v*M.T\n",
    "    \n",
    "    L1 = np.hstack((M.T, np.zeros(M.T.shape), -uM))\n",
    "    L2 = np.hstack((np.zeros(M.T.shape), M.T, -vM))\n",
    "    L = np.vstack((L1, L2))\n",
    "    \n",
    "    # SVD\n",
    "    U,S,V  = np.linalg.svd(L,full_matrices=False)\n",
    "    h = V[-1] # eigenvector associated with smallest singular value in S, which is the last vector in V\n",
    "    H = h.reshape(3,3)\n",
    "    \n",
    "    return H"
   ]
  },
  {
   "cell_type": "code",
   "execution_count": 13,
   "metadata": {
    "collapsed": false
   },
   "outputs": [
    {
     "data": {
      "text/plain": [
       "array([[ -3.94841203e-01,  -6.61312666e-01,   2.41062973e-01],\n",
       "       [ -3.27535989e-01,   4.76329715e-01,   1.20351463e-01],\n",
       "       [  3.90625157e-04,  -1.54452864e-04,   3.91028866e-04]])"
      ]
     },
     "execution_count": 13,
     "metadata": {},
     "output_type": "execute_result"
    }
   ],
   "source": [
    "estimateHomography(u_meas[0], v_meas[0], X, Y)"
   ]
  },
  {
   "cell_type": "code",
   "execution_count": 14,
   "metadata": {
    "collapsed": false
   },
   "outputs": [],
   "source": [
    "H_dict = {}\n",
    "for i in range(len(u_meas)):\n",
    "    H_dict[i] = estimateHomography(u_meas[i], v_meas[i], X, Y)"
   ]
  },
  {
   "cell_type": "code",
   "execution_count": 15,
   "metadata": {
    "collapsed": false
   },
   "outputs": [
    {
     "data": {
      "text/plain": [
       "{0: array([[ -3.94841203e-01,  -6.61312666e-01,   2.41062973e-01],\n",
       "        [ -3.27535989e-01,   4.76329715e-01,   1.20351463e-01],\n",
       "        [  3.90625157e-04,  -1.54452864e-04,   3.91028866e-04]]),\n",
       " 1: array([[ -7.01951942e-01,   1.16080758e-01,   1.55676965e-01],\n",
       "        [  1.98357279e-02,   6.84149401e-01,   3.31580153e-02],\n",
       "        [  5.07618366e-05,   2.04924974e-04,   2.30544492e-04]]),\n",
       " 2: array([[ -7.15375433e-01,   1.60116446e-01,  -5.00792513e-02],\n",
       "        [  1.44772679e-01,   6.47786310e-01,  -1.39665526e-01],\n",
       "        [ -8.19765419e-05,  -3.84307068e-06,  -2.91024097e-04]]),\n",
       " 3: array([[ -6.84755400e-01,  -1.05801230e-01,  -2.20380526e-01],\n",
       "        [  1.44754870e-01,   6.24391474e-01,  -2.46027513e-01],\n",
       "        [  1.73362869e-04,  -2.04107182e-04,  -5.19792064e-04]]),\n",
       " 4: array([[  7.10778099e-01,   3.84169120e-01,  -2.48065891e-01],\n",
       "        [ -5.99871308e-02,  -5.26452391e-01,  -7.01495644e-02],\n",
       "        [ -2.64886436e-04,   3.72721065e-04,  -3.86942480e-04]]),\n",
       " 5: array([[  6.74072795e-01,   2.79411575e-02,  -2.02603440e-01],\n",
       "        [  2.15944018e-01,  -6.68921046e-01,  -9.85366138e-02],\n",
       "        [  4.24494254e-04,   6.94496091e-05,  -4.13414470e-04]]),\n",
       " 6: array([[  7.77381689e-01,  -2.04522074e-01,   6.64047497e-02],\n",
       "        [ -1.55221987e-02,  -5.79546281e-01,   1.15428729e-01],\n",
       "        [  3.35478403e-04,   1.87940335e-04,   2.65059851e-04]]),\n",
       " 7: array([[  7.26449228e-01,  -2.26782920e-02,   5.60500851e-02],\n",
       "        [  2.96207440e-02,  -6.70271111e-01,   1.35921777e-01],\n",
       "        [  1.59532545e-04,  -1.38293308e-04,   2.78386982e-04]]),\n",
       " 8: array([[  3.93520626e-01,   4.21031505e-01,  -2.28930804e-01],\n",
       "        [  3.47409693e-01,  -6.95943985e-01,  -1.02141404e-01],\n",
       "        [ -3.83085240e-04,  -8.62297367e-05,  -3.59949937e-04]]),\n",
       " 9: array([[ -7.29642847e-01,   1.20260864e-02,  -5.56764274e-02],\n",
       "        [ -1.08453805e-01,   6.62344307e-01,  -1.17959524e-01],\n",
       "        [ -3.16345329e-04,  -3.80707990e-05,  -2.52374701e-04]]),\n",
       " 10: array([[ -6.64034376e-01,   7.49517752e-02,   1.69069771e-01],\n",
       "        [  1.05979523e-02,   7.23169023e-01,   4.20727128e-02],\n",
       "        [  1.57576459e-04,   1.43590672e-04,   2.82485017e-04]]),\n",
       " 11: array([[ -4.50855569e-01,   1.22355877e-01,   1.84743814e-01],\n",
       "        [  4.55095027e-02,   8.62055852e-01,   4.91556516e-02],\n",
       "        [  4.64938471e-04,   1.42978032e-04,   3.11494318e-04]])}"
      ]
     },
     "execution_count": 15,
     "metadata": {},
     "output_type": "execute_result"
    }
   ],
   "source": [
    "H_dict"
   ]
  },
  {
   "cell_type": "markdown",
   "metadata": {},
   "source": [
    "## 1.3 - estimate camera intrinsics"
   ]
  },
  {
   "cell_type": "code",
   "execution_count": 21,
   "metadata": {
    "collapsed": true
   },
   "outputs": [],
   "source": [
    "def getCameraIntrinsics(H):\n",
    "    V = np.zeros([1,6])\n",
    "\n",
    "    for _,Hmat in H.iteritems():\n",
    "        h1 = Hmat.T[0]\n",
    "        h2 = Hmat.T[1]\n",
    "        h3 = Hmat.T[2]\n",
    "\n",
    "        #v_ij = [hi1*hj1,    hi1*hj2+hi2*hj1,         hi2*hj2,     hi3*hj1 + hi1*hj3,       hi3*hj2 + hi2*hj3,       hi3*hj3]\n",
    "        v_11 = [h1[0]*h1[0], h1[0]*h1[1]+h1[1]*h1[0], h1[1]*h1[1], h1[2]*h1[0]+h1[0]*h1[2], h1[2]*h1[1]+h1[1]*h1[2], h1[2]*h1[2]]\n",
    "        v_22 = [h2[0]*h2[0], h2[0]*h2[1]+h2[1]*h2[0], h2[1]*h2[1], h2[2]*h2[0]+h2[0]*h2[2], h2[2]*h2[1]+h2[1]*h2[2], h2[2]*h2[2]]\n",
    "        v_12 = [h1[0]*h2[0], h1[0]*h2[1]+h1[1]*h2[0], h1[1]*h2[1], h1[2]*h2[0]+h1[0]*h2[2], h1[2]*h2[1]+h1[1]*h2[2], h1[2]*h2[2]]\n",
    "\n",
    "        if V.shape[0] < 2:\n",
    "            V = np.vstack((np.array(v_12), np.array(v_11)-np.array(v_22)))\n",
    "        else:\n",
    "            V2 = np.vstack((np.array(v_12), np.array(v_11)-np.array(v_22)))\n",
    "            V = np.vstack((V,V2))\n",
    "\n",
    "    U,S,V_ = np.linalg.svd(V,full_matrices=False)\n",
    "    b = V_[-1]\n",
    "\n",
    "    B = np.array([\n",
    "        [b[0], b[1], b[3]],\n",
    "        [b[1], b[2], b[4]],\n",
    "        [b[3], b[4], b[5]]\n",
    "    ])\n",
    "\n",
    "    v0 = (B[0,1]*B[0,2] - B[0,0]*B[1,2])/(B[0,0]*B[1,1] - B[0,1]**2)\n",
    "    lam = B[2,2] - (B[0,2]**2 + v0*(B[0,1]*B[0,2] - B[0,0]*B[1,2]))/B[0,0]\n",
    "    alpha = np.sqrt(lam/B[0,0])\n",
    "    beta = np.sqrt(lam*B[0,0] / (B[0,0]*B[1,1] - B[0,1]**2))\n",
    "    gamma = -B[0,1]* alpha**2 * beta / lam\n",
    "    u0 = (gamma*v0/alpha) - (B[0,2]*alpha**2 / lam)\n",
    "\n",
    "    A = np.array([\n",
    "        [alpha, gamma, u0],\n",
    "        [0,     beta,  v0],\n",
    "        [0,     0,     1]\n",
    "    ])\n",
    "\n",
    "    return A"
   ]
  },
  {
   "cell_type": "code",
   "execution_count": 17,
   "metadata": {
    "collapsed": false
   },
   "outputs": [
    {
     "data": {
      "text/plain": [
       "array([[  1.31777815e+03,   4.00901096e+01,   4.12505964e+02],\n",
       "       [  0.00000000e+00,   1.22400000e+03,   2.93599285e+02],\n",
       "       [  0.00000000e+00,   0.00000000e+00,   1.00000000e+00]])"
      ]
     },
     "execution_count": 17,
     "metadata": {},
     "output_type": "execute_result"
    }
   ],
   "source": [
    "A = getCameraIntrinsics(H_dict)\n",
    "A"
   ]
  },
  {
   "cell_type": "code",
   "execution_count": 18,
   "metadata": {
    "collapsed": false
   },
   "outputs": [
    {
     "data": {
      "text/plain": [
       "array([[ -3.94841203e-01,  -6.61312666e-01,   2.41062973e-01],\n",
       "       [ -3.27535989e-01,   4.76329715e-01,   1.20351463e-01],\n",
       "       [  3.90625157e-04,  -1.54452864e-04,   3.91028866e-04]])"
      ]
     },
     "execution_count": 18,
     "metadata": {},
     "output_type": "execute_result"
    }
   ],
   "source": [
    "H = H_dict[0]\n",
    "H"
   ]
  },
  {
   "cell_type": "code",
   "execution_count": 19,
   "metadata": {
    "collapsed": false
   },
   "outputs": [
    {
     "data": {
      "text/plain": [
       "[0.26111348846398008,\n",
       " 0.028529100691294162,\n",
       " -0.15601512431849943,\n",
       " -0.00019734100956085202,\n",
       " 0.00023665524106161127,\n",
       " -6.0333174060492602e-08]"
      ]
     },
     "execution_count": 19,
     "metadata": {},
     "output_type": "execute_result"
    }
   ],
   "source": [
    "#v_ij = [hi1*hj1, hi1*hj2+hi2*hj1, hi2*hj2, hi3*hj1 + hi1*hj3, hi3*hj2 + hi2*hj3, hi3*hj3]\n",
    "h1 = H.T[0]\n",
    "h2 = H.T[1]\n",
    "h3 = H.T[2]\n",
    "\n",
    "v_11 = [h1[0]*h1[0], h1[0]*h1[1]+h1[1]*h1[0], h1[1]*h1[1], h1[2]*h1[0]+h1[0]*h1[2], h1[2]*h1[1]+h1[1]*h1[2], h1[2]*h1[2]]\n",
    "v_22 = [h2[0]*h2[0], h2[0]*h2[1]+h2[1]*h2[0], h2[1]*h2[1], h2[2]*h2[0]+h2[0]*h2[2], h2[2]*h2[1]+h2[1]*h2[2], h2[2]*h2[2]]\n",
    "v_12 = [h1[0]*h2[0], h1[0]*h2[1]+h1[1]*h2[0], h1[1]*h2[1], h1[2]*h2[0]+h1[0]*h2[2], h1[2]*h2[1]+h1[1]*h2[2], h1[2]*h2[2]]\n",
    "v_12"
   ]
  },
  {
   "cell_type": "code",
   "execution_count": 20,
   "metadata": {
    "collapsed": false
   },
   "outputs": [
    {
     "data": {
      "text/plain": [
       "array([[  2.61113488e-01,   2.85291007e-02,  -1.56015124e-01,\n",
       "         -1.97341010e-04,   2.36655241e-04,  -6.03331741e-08],\n",
       "       [ -2.81434867e-01,   8.88655155e-01,  -1.19610173e-01,\n",
       "         -5.12753084e-04,  -1.08746617e-04,   1.28732326e-07]])"
      ]
     },
     "execution_count": 20,
     "metadata": {},
     "output_type": "execute_result"
    }
   ],
   "source": [
    "V = np.vstack((np.array(v_12), np.array(v_11)-np.array(v_22)))\n",
    "V"
   ]
  },
  {
   "cell_type": "code",
   "execution_count": 22,
   "metadata": {
    "collapsed": false
   },
   "outputs": [],
   "source": [
    "V = np.zeros([1,6])\n",
    "\n",
    "for _,H in H_dict.iteritems():\n",
    "    h1 = H.T[0]\n",
    "    h2 = H.T[1]\n",
    "    h3 = H.T[2]\n",
    "\n",
    "    v_11 = [h1[0]*h1[0], h1[0]*h1[1]+h1[1]*h1[0], h1[1]*h1[1], h1[2]*h1[0]+h1[0]*h1[2], h1[2]*h1[1]+h1[1]*h1[2], h1[2]*h1[2]]\n",
    "    v_22 = [h2[0]*h2[0], h2[0]*h2[1]+h2[1]*h2[0], h2[1]*h2[1], h2[2]*h2[0]+h2[0]*h2[2], h2[2]*h2[1]+h2[1]*h2[2], h2[2]*h2[2]]\n",
    "    v_12 = [h1[0]*h2[0], h1[0]*h2[1]+h1[1]*h2[0], h1[1]*h2[1], h1[2]*h2[0]+h1[0]*h2[2], h1[2]*h2[1]+h1[1]*h2[2], h1[2]*h2[2]]\n",
    "\n",
    "    if V.shape[0] < 2:\n",
    "        V = np.vstack((np.array(v_12), np.array(v_11)-np.array(v_22)))\n",
    "    else:\n",
    "        V2 = np.vstack((np.array(v_12), np.array(v_11)-np.array(v_22)))\n",
    "        V = np.vstack((V,V2))"
   ]
  },
  {
   "cell_type": "code",
   "execution_count": 23,
   "metadata": {
    "collapsed": false
   },
   "outputs": [
    {
     "data": {
      "text/plain": [
       "array([[  2.61113488e-01,   2.85291007e-02,  -1.56015124e-01,\n",
       "         -1.97341010e-04,   2.36655241e-04,  -6.03331741e-08],\n",
       "       [ -2.81434867e-01,   8.88655155e-01,  -1.19610173e-01,\n",
       "         -5.12753084e-04,  -1.08746617e-04,   1.28732326e-07],\n",
       "       [ -8.14831132e-02,  -4.77937455e-01,   1.35706014e-02,\n",
       "         -1.37955011e-04,   3.87935162e-05,   1.04023680e-08],\n",
       "       [  4.79261787e-01,  -1.86680617e-01,  -4.67666947e-01,\n",
       "         -1.18840432e-04,  -2.78384801e-04,  -3.94174810e-08],\n",
       "       [ -1.14543372e-01,  -4.40229925e-01,   9.37817597e-02,\n",
       "         -1.03765542e-05,  -5.36596532e-05,   3.15041645e-10],\n",
       "       [  4.86124734e-01,  -4.14576120e-01,  -3.98667975e-01,\n",
       "          1.18518686e-04,  -1.87569501e-05,   6.70538423e-09],\n",
       "       [  7.24479636e-02,  -4.42870677e-01,   9.03837065e-02,\n",
       "          1.21421490e-04,   7.87007888e-05,  -3.53846066e-08],\n",
       "       [  4.57696058e-01,  -6.61205853e-02,  -3.68910741e-01,\n",
       "         -2.80611903e-04,   3.05075807e-04,  -1.16050573e-08],\n",
       "       [  2.73058997e-01,  -3.97236032e-01,   3.15803684e-02,\n",
       "          1.63160781e-04,   1.17091630e-04,  -9.87287546e-08],\n",
       "       [  3.57619593e-01,   3.19218426e-01,  -2.73553664e-01,\n",
       "         -6.62926802e-04,   4.24219346e-04,  -6.87561682e-08],\n",
       "       [  1.88343741e-02,  -4.44867753e-01,  -1.44449498e-01,\n",
       "          5.86749529e-05,  -2.68955913e-04,   2.94809600e-08],\n",
       "       [  4.53593425e-01,   3.28504831e-01,  -4.00823547e-01,\n",
       "          5.68399052e-04,   2.76246600e-04,   1.75372124e-07],\n",
       "       [ -1.58991715e-01,  -4.47354035e-01,   8.99583252e-03,\n",
       "          7.74886367e-05,  -1.97342508e-04,   6.30499236e-08],\n",
       "       [  5.62493012e-01,  -2.61193360e-01,  -3.35632953e-01,\n",
       "          5.98465430e-04,   2.07425520e-04,   7.72241895e-08],\n",
       "       [ -1.64746278e-02,  -4.87589679e-01,  -1.98539290e-02,\n",
       "         -1.04080993e-04,  -1.11026407e-04,  -2.20622833e-08],\n",
       "       [  5.27214176e-01,   1.26347253e-02,  -4.48385974e-01,\n",
       "          2.25512076e-04,  -1.75937073e-04,   6.32559368e-09],\n",
       "       [  1.65684581e-01,  -1.27597887e-01,  -2.41777687e-01,\n",
       "         -1.95224135e-04,   2.36648822e-04,   3.30333394e-08],\n",
       "       [ -2.24090451e-02,   8.59454447e-01,  -3.63644535e-01,\n",
       "         -2.28893016e-04,  -3.86197185e-04,   1.39318734e-07],\n",
       "       [ -8.77474793e-03,  -4.84579061e-01,  -7.18337604e-02,\n",
       "          2.39736899e-05,  -2.05400605e-04,   1.20435195e-08],\n",
       "       [  5.32234058e-01,   1.42334266e-01,  -4.26937754e-01,\n",
       "          4.62553899e-04,   1.19049663e-04,   9.86249817e-08],\n",
       "       [ -4.97705553e-02,  -4.79414756e-01,   7.66411084e-03,\n",
       "         -8.35385068e-05,   1.15476181e-04,   2.26265095e-08],\n",
       "       [  4.35323885e-01,  -1.22480413e-01,  -5.22861119e-01,\n",
       "         -2.30797123e-04,  -2.04340676e-04,   4.21205941e-09],\n",
       "       [ -5.51648286e-02,  -3.83094326e-01,   3.92317332e-02,\n",
       "         -7.57448739e-06,   4.07309789e-04,   6.64759875e-08],\n",
       "       [  1.88299783e-01,  -2.51991625e-01,  -7.41069177e-01,\n",
       "         -4.54228602e-04,  -2.04191861e-04,   1.95725064e-07]])"
      ]
     },
     "execution_count": 23,
     "metadata": {},
     "output_type": "execute_result"
    }
   ],
   "source": [
    "V"
   ]
  },
  {
   "cell_type": "code",
   "execution_count": 24,
   "metadata": {
    "collapsed": false
   },
   "outputs": [],
   "source": [
    "U,S,V_ = np.linalg.svd(V,full_matrices=False)"
   ]
  },
  {
   "cell_type": "code",
   "execution_count": 25,
   "metadata": {
    "collapsed": false
   },
   "outputs": [
    {
     "data": {
      "text/plain": [
       "array([[ -5.96613721e-01,   6.21500483e-01,   5.07729453e-01,\n",
       "         -1.30346007e-04,  -4.83972505e-05,  -2.02667162e-08],\n",
       "       [ -3.89784833e-01,  -7.77435790e-01,   4.93620670e-01,\n",
       "          1.03179252e-04,  -7.29363446e-06,  -8.45837110e-08],\n",
       "       [  7.01511679e-01,   9.65957294e-02,   7.06079579e-01,\n",
       "          1.17383629e-03,   9.37822327e-04,  -3.68643522e-07],\n",
       "       [  5.24776269e-04,  -6.98213371e-05,   5.02719089e-04,\n",
       "         -9.21173494e-01,   3.89151443e-01,  -1.22278147e-04],\n",
       "       [ -9.70314802e-04,  -4.23481426e-05,  -9.00631793e-04,\n",
       "          3.89150289e-01,   9.21173298e-01,   2.29258440e-04],\n",
       "       [ -5.00168432e-07,   1.63821955e-08,  -5.80282958e-07,\n",
       "          2.01854944e-04,   1.63601697e-04,  -9.99999966e-01]])"
      ]
     },
     "execution_count": 25,
     "metadata": {},
     "output_type": "execute_result"
    }
   ],
   "source": [
    "b = V_[-1]\n",
    "V_"
   ]
  },
  {
   "cell_type": "code",
   "execution_count": 26,
   "metadata": {
    "collapsed": false
   },
   "outputs": [
    {
     "data": {
      "text/plain": [
       "array([[ -5.00168432e-07,   1.63821955e-08,   2.01854944e-04],\n",
       "       [  1.63821955e-08,  -5.80282958e-07,   1.63601697e-04],\n",
       "       [  2.01854944e-04,   1.63601697e-04,  -9.99999966e-01]])"
      ]
     },
     "execution_count": 26,
     "metadata": {},
     "output_type": "execute_result"
    }
   ],
   "source": [
    "B = np.array([\n",
    "    [b[0], b[1], b[3]],\n",
    "    [b[1], b[2], b[4]],\n",
    "    [b[3], b[4], b[5]]\n",
    "])\n",
    "B"
   ]
  },
  {
   "cell_type": "code",
   "execution_count": 27,
   "metadata": {
    "collapsed": true
   },
   "outputs": [],
   "source": [
    "v0 = (B[0,1]*B[0,2] - B[0,0]*B[1,2])/(B[0,0]*B[1,1] - B[0,1]**2)\n",
    "lam = B[2,2] - (B[0,2]**2 + v0*(B[0,1]*B[0,2] - B[0,0]*B[1,2]))/B[0,0]\n",
    "alpha = np.sqrt(lam/B[0,0])\n",
    "beta = np.sqrt(lam*B[0,0] / (B[0,0]*B[1,1] - B[0,1]**2))\n",
    "gamma = -B[0,1]* alpha**2 * beta / lam\n",
    "u0 = gamma*v0/alpha - B[0,2]*alpha**2 / lam"
   ]
  },
  {
   "cell_type": "code",
   "execution_count": null,
   "metadata": {
    "collapsed": false
   },
   "outputs": [],
   "source": []
  },
  {
   "cell_type": "code",
   "execution_count": 28,
   "metadata": {
    "collapsed": false
   },
   "outputs": [
    {
     "data": {
      "text/plain": [
       "array([[  1.31777815e+03,   4.00901096e+01,   4.12505964e+02],\n",
       "       [  0.00000000e+00,   1.22400000e+03,   2.93599285e+02],\n",
       "       [  0.00000000e+00,   0.00000000e+00,   1.00000000e+00]])"
      ]
     },
     "execution_count": 28,
     "metadata": {},
     "output_type": "execute_result"
    }
   ],
   "source": [
    "A = np.array([[alpha, gamma, u0],\n",
    "             [0, beta, v0],\n",
    "             [0, 0, 1]])\n",
    "A"
   ]
  },
  {
   "cell_type": "markdown",
   "metadata": {},
   "source": [
    "## Problem 1.4"
   ]
  },
  {
   "cell_type": "code",
   "execution_count": 29,
   "metadata": {
    "collapsed": true
   },
   "outputs": [],
   "source": [
    "def getExtrinsics(H, A):\n",
    "\n",
    "    A_inv = np.linalg.inv(A)\n",
    "    lam = 1/np.linalg.norm(A_inv.dot(H.T[0]))\n",
    "    r1 = lam*A_inv.dot(H.T[0])\n",
    "    r2 = lam*A_inv.dot(H.T[1])\n",
    "    r3 = np.cross(r1,r2)\n",
    "    t = lam * A_inv.dot(H.T[2])\n",
    "    \n",
    "    R_g = np.vstack((r1,r2,r3)).T\n",
    "\n",
    "    U,S,V = np.linalg.svd(R_g,full_matrices=False)\n",
    "    R = U.dot(V)\n",
    "\n",
    "    return R, t"
   ]
  },
  {
   "cell_type": "code",
   "execution_count": 61,
   "metadata": {
    "collapsed": false
   },
   "outputs": [
    {
     "data": {
      "text/plain": [
       "array([[  1.31777815e+03,   4.00901096e+01,   4.12505964e+02],\n",
       "       [  0.00000000e+00,   1.22400000e+03,   2.93599285e+02],\n",
       "       [  0.00000000e+00,   0.00000000e+00,   1.00000000e+00]])"
      ]
     },
     "execution_count": 61,
     "metadata": {},
     "output_type": "execute_result"
    }
   ],
   "source": [
    "A"
   ]
  },
  {
   "cell_type": "code",
   "execution_count": 62,
   "metadata": {
    "collapsed": false
   },
   "outputs": [
    {
     "data": {
      "text/plain": [
       "array([[  7.58853072e-04,  -2.48549860e-05,  -3.05734012e-01],\n",
       "       [  0.00000000e+00,   8.16993465e-04,  -2.39868697e-01],\n",
       "       [  0.00000000e+00,   0.00000000e+00,   1.00000000e+00]])"
      ]
     },
     "execution_count": 62,
     "metadata": {},
     "output_type": "execute_result"
    }
   ],
   "source": [
    "A_inv = np.linalg.inv(A)\n",
    "A_inv"
   ]
  },
  {
   "cell_type": "code",
   "execution_count": 67,
   "metadata": {
    "collapsed": false
   },
   "outputs": [
    {
     "data": {
      "text/plain": [
       "1487.4588846262131"
      ]
     },
     "execution_count": 67,
     "metadata": {},
     "output_type": "execute_result"
    }
   ],
   "source": [
    "lam = 1.0/np.linalg.norm(A_inv.dot(H.T[0]))\n",
    "lam"
   ]
  },
  {
   "cell_type": "code",
   "execution_count": 33,
   "metadata": {
    "collapsed": false
   },
   "outputs": [
    {
     "data": {
      "text/plain": [
       "array([[ -3.94841203e-01,  -6.61312666e-01,   2.41062973e-01],\n",
       "       [ -3.27535989e-01,   4.76329715e-01,   1.20351463e-01],\n",
       "       [  3.90625157e-04,  -1.54452864e-04,   3.91028866e-04]])"
      ]
     },
     "execution_count": 33,
     "metadata": {},
     "output_type": "execute_result"
    }
   ],
   "source": [
    "H_dict[0]"
   ]
  },
  {
   "cell_type": "code",
   "execution_count": 73,
   "metadata": {
    "collapsed": false
   },
   "outputs": [
    {
     "data": {
      "text/plain": [
       "array([[-0.61121612, -0.69383535, -0.24489262],\n",
       "       [-0.53740924,  0.6339649 , -0.54356749],\n",
       "       [ 0.58103886, -0.22974228, -0.7603631 ]])"
      ]
     },
     "execution_count": 73,
     "metadata": {},
     "output_type": "execute_result"
    }
   ],
   "source": [
    "H = H_dict[0]\n",
    "\n",
    "r1 = lam*A_inv.dot(H.T[0])\n",
    "r2 = lam*A_inv.dot(H.T[1])\n",
    "r3 = np.cross(r1,r2)\n",
    "\n",
    "R_g = np.vstack((r1,r2,r3)).T\n",
    "R_g"
   ]
  },
  {
   "cell_type": "code",
   "execution_count": 35,
   "metadata": {
    "collapsed": false
   },
   "outputs": [
    {
     "data": {
      "text/plain": [
       "array([ 0.08929963,  0.00669981,  0.57822792])"
      ]
     },
     "execution_count": 35,
     "metadata": {},
     "output_type": "execute_result"
    }
   ],
   "source": [
    "t = lam * A_inv.dot(H.T[2])\n",
    "t"
   ]
  },
  {
   "cell_type": "code",
   "execution_count": 74,
   "metadata": {
    "collapsed": false,
    "scrolled": true
   },
   "outputs": [
    {
     "data": {
      "text/plain": [
       "(array([[-0.19960919,  0.25345309,  0.94652929],\n",
       "        [-0.76558263,  0.56256844, -0.3120897 ],\n",
       "        [ 0.61158761,  0.78694236, -0.08174545]]),\n",
       " array([ 1.01364417,  0.96622463,  0.95321876]),\n",
       " array([[ 0.87682812, -0.48080397,  0.        ],\n",
       "        [-0.        , -0.        , -1.        ],\n",
       "        [-0.48080397, -0.87682812, -0.        ]]))"
      ]
     },
     "execution_count": 74,
     "metadata": {},
     "output_type": "execute_result"
    }
   ],
   "source": [
    "U,S,V = np.linalg.svd(R_g,full_matrices=False)\n",
    "U,S,V"
   ]
  },
  {
   "cell_type": "code",
   "execution_count": 37,
   "metadata": {
    "collapsed": false
   },
   "outputs": [
    {
     "data": {
      "text/plain": [
       "array([[-0.60763121, -0.68976585, -0.24202835],\n",
       "       [-0.53425722,  0.63024656, -0.53720991],\n",
       "       [ 0.57763094, -0.2283948 , -0.75146987]])"
      ]
     },
     "execution_count": 37,
     "metadata": {},
     "output_type": "execute_result"
    }
   ],
   "source": [
    "U.dot(np.diag(S)).dot(V) # == R_guess"
   ]
  },
  {
   "cell_type": "code",
   "execution_count": 75,
   "metadata": {
    "collapsed": false
   },
   "outputs": [
    {
     "data": {
      "text/plain": [
       "array([[-0.63011799, -0.7339706 , -0.25345309],\n",
       "       [-0.52123041,  0.64174419, -0.56256844],\n",
       "       [ 0.57556074, -0.22237704, -0.78694236]])"
      ]
     },
     "execution_count": 75,
     "metadata": {},
     "output_type": "execute_result"
    }
   ],
   "source": [
    "R = U.dot(V)\n",
    "R"
   ]
  },
  {
   "cell_type": "code",
   "execution_count": 39,
   "metadata": {
    "collapsed": false
   },
   "outputs": [
    {
     "data": {
      "text/plain": [
       "array([[  1.00000000e+00,   1.11022302e-16,   5.55111512e-17],\n",
       "       [  1.11022302e-16,   1.00000000e+00,   0.00000000e+00],\n",
       "       [  5.55111512e-17,   0.00000000e+00,   1.00000000e+00]])"
      ]
     },
     "execution_count": 39,
     "metadata": {},
     "output_type": "execute_result"
    }
   ],
   "source": [
    "# check that R is a rotation matrix R.T.dot(R) == Identity\n",
    "R.T.dot(R)"
   ]
  },
  {
   "cell_type": "code",
   "execution_count": 40,
   "metadata": {
    "collapsed": false
   },
   "outputs": [
    {
     "data": {
      "text/plain": [
       "array([[ -3.94841203e-01,  -6.61312666e-01,   2.41062973e-01],\n",
       "       [ -3.27535989e-01,   4.76329715e-01,   1.20351463e-01],\n",
       "       [  3.90625157e-04,  -1.54452864e-04,   3.91028866e-04]])"
      ]
     },
     "execution_count": 40,
     "metadata": {},
     "output_type": "execute_result"
    }
   ],
   "source": [
    "H"
   ]
  },
  {
   "cell_type": "code",
   "execution_count": 41,
   "metadata": {
    "collapsed": false
   },
   "outputs": [
    {
     "data": {
      "text/plain": [
       "{0: array([[-0.63011799, -0.7339706 , -0.25345309],\n",
       "        [-0.52123041,  0.64174419, -0.56256844],\n",
       "        [ 0.57556074, -0.22237704, -0.78694236]]),\n",
       " 1: array([[-0.99616898,  0.02824533, -0.08276212],\n",
       "        [-0.00466948,  0.92787128,  0.37287141],\n",
       "        [ 0.08732447,  0.37182939, -0.92418469]]),\n",
       " 2: array([[-0.96303697,  0.22650718,  0.1457885 ],\n",
       "        [ 0.22356545,  0.9740062 , -0.03647478],\n",
       "        [-0.1502607 , -0.00253329, -0.98864316]]),\n",
       " 3: array([[-0.94980165, -0.02061059, -0.31217308],\n",
       "        [ 0.09218047,  0.93509417, -0.34220119],\n",
       "        [ 0.2989642 , -0.35379951, -0.88625409]]),\n",
       " 4: array([[ 0.91618637,  0.27322348, -0.2931748 ],\n",
       "        [ 0.03203404, -0.77914985, -0.62601863],\n",
       "        [-0.39947009,  0.56415817, -0.72259893]]),\n",
       " 5: array([[ 0.65813368,  0.03563064,  0.75205752],\n",
       "        [ 0.12083196, -0.99093035, -0.05879351],\n",
       "        [ 0.74314177,  0.12956658, -0.65646996]]),\n",
       " 6: array([[ 0.82141698, -0.35566568,  0.44584309],\n",
       "        [-0.13727023, -0.8820416 , -0.45073218],\n",
       "        [ 0.55356212,  0.30903808, -0.77334626]]),\n",
       " 7: array([[ 0.95196517,  0.06783828,  0.2985972 ],\n",
       "        [-0.01617786, -0.9626457 ,  0.27028048],\n",
       "        [ 0.30577867, -0.26212827, -0.9153077 ]]),\n",
       " 8: array([[ 0.62036799,  0.56550876, -0.54345506],\n",
       "        [ 0.53550574, -0.81166517, -0.23330935],\n",
       "        [-0.57304202, -0.14628565, -0.80636428]]),\n",
       " 9: array([[-0.82048352,  0.01195532,  0.57154516],\n",
       "        [-0.02801298,  0.99773943, -0.06108437],\n",
       "        [-0.57098343, -0.0661294 , -0.81829385]]),\n",
       " 10: array([[-0.96055433,  0.00464317, -0.27805362],\n",
       "        [-0.06412098,  0.96922113,  0.23769499],\n",
       "        [ 0.2705991 ,  0.24614802, -0.93069183]]),\n",
       " 11: array([[-0.71794929,  0.04288758, -0.69477296],\n",
       "        [-0.11334732,  0.97757643,  0.17747311],\n",
       "        [ 0.68680506,  0.20616735, -0.69698912]])}"
      ]
     },
     "execution_count": 41,
     "metadata": {},
     "output_type": "execute_result"
    }
   ],
   "source": [
    "R_dict = {}\n",
    "t_dict = {}\n",
    "for i in range(len(u_meas)):\n",
    "    R_dict[i], t_dict[i] = getExtrinsics(H_dict[i],A)\n",
    "R_dict\n",
    "#t_dict"
   ]
  },
  {
   "cell_type": "markdown",
   "metadata": {},
   "source": [
    "## Problem 1.5"
   ]
  },
  {
   "cell_type": "code",
   "execution_count": 82,
   "metadata": {
    "collapsed": true
   },
   "outputs": [],
   "source": [
    "def transformWorld2NormImageUndist(X, Y, Z, R, t):\n",
    "    \"\"\"\n",
    "    Note: The transformation functions should only process one chessboard at a time!\n",
    "    This means X, Y, Z, R, t should be individual arrays\n",
    "    \"\"\"\n",
    "\n",
    "    R_t = np.hstack((R,np.array([t]).T))\n",
    "    XYZ_W = np.vstack((X,Y,Z,[1 for _ in X])).T # homogeneous world frame coordinates\n",
    "    XYZ_C = R_t.dot(XYZ_W.T) # camera frame coordinates\n",
    "\n",
    "    x = XYZ_C[0]/XYZ_C[2]\n",
    "    y = XYZ_C[1]/XYZ_C[2]\n",
    "    \n",
    "    #xyz_c = A.dot(R_t.dot(XYZ_W.T))\n",
    "    #x = XYZ_C[0]\n",
    "    #y = XYZ_C[1]\n",
    "    #z = XYZ_C[2]\n",
    "    #x = x/z\n",
    "    #y = y/z\n",
    "    \n",
    "    #x = xyz_c[0]\n",
    "    #y = xyz_c[1]\n",
    "\n",
    "    return x, y"
   ]
  },
  {
   "cell_type": "code",
   "execution_count": 83,
   "metadata": {
    "collapsed": false
   },
   "outputs": [
    {
     "data": {
      "text/plain": [
       "(array([ 0.15443673,  0.12959908,  0.10572983,  0.08277345,  0.06067853,\n",
       "         0.03939749,  0.01888617, -0.00089645, -0.01998853,  0.12958342,\n",
       "         0.10505146,  0.08148325,  0.05882309,  0.0370195 ,  0.01602481,\n",
       "        -0.00420518, -0.0237115 , -0.04253229,  0.10433433,  0.08012082,\n",
       "         0.05686582,  0.03451354,  0.01301239, -0.00768532, -0.0276238 ,\n",
       "        -0.04684407, -0.06538425,  0.07867991,  0.05479811,  0.03186898,\n",
       "         0.00983663, -0.01135054, -0.03174024, -0.05137668, -0.07030084,\n",
       "        -0.08855078,  0.05261033,  0.02907401,  0.00648388, -0.015216  ,\n",
       "        -0.03607725, -0.05614755, -0.07547105, -0.09408867, -0.1120384 ,\n",
       "         0.02611543,  0.00293891, -0.01929859, -0.04065302, -0.06117596,\n",
       "        -0.08091503, -0.09991432, -0.11821463, -0.13585385, -0.00081529,\n",
       "        -0.02361712, -0.04548784, -0.06648334, -0.08665512, -0.10605073,\n",
       "        -0.12471411, -0.14268597, -0.16000404]),\n",
       " array([ 0.0115868 , -0.00664919, -0.02417416, -0.04102891, -0.05725116,\n",
       "        -0.07287586, -0.08793542, -0.10245997, -0.11647751,  0.03447542,\n",
       "         0.01563965, -0.00245614, -0.01985473, -0.03659563, -0.05271547,\n",
       "        -0.06824815, -0.0832252 , -0.0976759 ,  0.05772854,  0.03827628,\n",
       "         0.01959405,  0.00163703, -0.01563622, -0.03226401, -0.04828186,\n",
       "        -0.06372274, -0.07861725,  0.08135494,  0.06126889,  0.0419841 ,\n",
       "         0.02345355,  0.00563385, -0.01151514, -0.02803058, -0.04394695,\n",
       "        -0.05929626,  0.10536368,  0.08462595,  0.06472191,  0.04560225,\n",
       "         0.02722152,  0.00953768, -0.00748816, -0.02389205, -0.03970746,\n",
       "         0.12976411,  0.10835621,  0.08781565,  0.06809078,  0.04913395,\n",
       "         0.03090117,  0.01335173, -0.00355209, -0.01984526,  0.15456592,\n",
       "         0.13246866,  0.11127375,  0.09092702,  0.07137855,  0.05258227,\n",
       "         0.03449559,  0.01707906,  0.00029612]))"
      ]
     },
     "execution_count": 83,
     "metadata": {},
     "output_type": "execute_result"
    }
   ],
   "source": [
    "transformWorld2NormImageUndist(X, Y, Z, R, t)"
   ]
  },
  {
   "cell_type": "code",
   "execution_count": 44,
   "metadata": {
    "collapsed": false
   },
   "outputs": [],
   "source": [
    "Z = [0 for _ in X]\n",
    "XYZ_W = np.vstack((X,Y,Z,[1 for _ in X])).T # homogeneous world frame coordinates"
   ]
  },
  {
   "cell_type": "code",
   "execution_count": 45,
   "metadata": {
    "collapsed": false
   },
   "outputs": [
    {
     "data": {
      "text/plain": [
       "array([[-0.63011799, -0.7339706 , -0.25345309,  0.08982648],\n",
       "       [-0.52123041,  0.64174419, -0.56256844,  0.00673934],\n",
       "       [ 0.57556074, -0.22237704, -0.78694236,  0.58163936]])"
      ]
     },
     "execution_count": 45,
     "metadata": {},
     "output_type": "execute_result"
    }
   ],
   "source": [
    "R = R_dict[0]\n",
    "t = t_dict[0]\n",
    "\n",
    "R_t = np.hstack((R,np.array([t]).T))\n",
    "R_t"
   ]
  },
  {
   "cell_type": "code",
   "execution_count": 49,
   "metadata": {
    "collapsed": false
   },
   "outputs": [
    {
     "data": {
      "text/plain": [
       "(array([ 0.15443673,  0.12959908,  0.10572983,  0.08277345,  0.06067853,\n",
       "         0.03939749,  0.01888617, -0.00089645, -0.01998853,  0.12958342,\n",
       "         0.10505146,  0.08148325,  0.05882309,  0.0370195 ,  0.01602481,\n",
       "        -0.00420518, -0.0237115 , -0.04253229,  0.10433433,  0.08012082,\n",
       "         0.05686582,  0.03451354,  0.01301239, -0.00768532, -0.0276238 ,\n",
       "        -0.04684407, -0.06538425,  0.07867991,  0.05479811,  0.03186898,\n",
       "         0.00983663, -0.01135054, -0.03174024, -0.05137668, -0.07030084,\n",
       "        -0.08855078,  0.05261033,  0.02907401,  0.00648388, -0.015216  ,\n",
       "        -0.03607725, -0.05614755, -0.07547105, -0.09408867, -0.1120384 ,\n",
       "         0.02611543,  0.00293891, -0.01929859, -0.04065302, -0.06117596,\n",
       "        -0.08091503, -0.09991432, -0.11821463, -0.13585385, -0.00081529,\n",
       "        -0.02361712, -0.04548784, -0.06648334, -0.08665512, -0.10605073,\n",
       "        -0.12471411, -0.14268597, -0.16000404]),\n",
       " array([ 0.0115868 , -0.00664919, -0.02417416, -0.04102891, -0.05725116,\n",
       "        -0.07287586, -0.08793542, -0.10245997, -0.11647751,  0.03447542,\n",
       "         0.01563965, -0.00245614, -0.01985473, -0.03659563, -0.05271547,\n",
       "        -0.06824815, -0.0832252 , -0.0976759 ,  0.05772854,  0.03827628,\n",
       "         0.01959405,  0.00163703, -0.01563622, -0.03226401, -0.04828186,\n",
       "        -0.06372274, -0.07861725,  0.08135494,  0.06126889,  0.0419841 ,\n",
       "         0.02345355,  0.00563385, -0.01151514, -0.02803058, -0.04394695,\n",
       "        -0.05929626,  0.10536368,  0.08462595,  0.06472191,  0.04560225,\n",
       "         0.02722152,  0.00953768, -0.00748816, -0.02389205, -0.03970746,\n",
       "         0.12976411,  0.10835621,  0.08781565,  0.06809078,  0.04913395,\n",
       "         0.03090117,  0.01335173, -0.00355209, -0.01984526,  0.15456592,\n",
       "         0.13246866,  0.11127375,  0.09092702,  0.07137855,  0.05258227,\n",
       "         0.03449559,  0.01707906,  0.00029612]))"
      ]
     },
     "execution_count": 49,
     "metadata": {},
     "output_type": "execute_result"
    }
   ],
   "source": [
    "XYZ_C = R_t.dot(XYZ_W.T) # camera frame coordinates\n",
    "X_C = XYZ_C[0]\n",
    "Y_C = XYZ_C[1]\n",
    "Z_C = XYZ_C[2]\n",
    "\n",
    "x = X_C/Z_C\n",
    "y = Y_C/Z_C\n",
    "\n",
    "X_C,Y_C\n",
    "x,y\n"
   ]
  },
  {
   "cell_type": "code",
   "execution_count": 50,
   "metadata": {
    "collapsed": false
   },
   "outputs": [
    {
     "name": "stdout",
     "output_type": "stream",
     "text": [
      "[[  1.31777815e+03   4.00901096e+01   4.12505964e+02   0.00000000e+00]\n",
      " [  0.00000000e+00   1.22400000e+03   2.93599285e+02   0.00000000e+00]\n",
      " [  0.00000000e+00   0.00000000e+00   1.00000000e+00   0.00000000e+00]]\n"
     ]
    }
   ],
   "source": [
    "K_0 = np.hstack((A,np.zeros([3,1])))\n",
    "print K_0"
   ]
  },
  {
   "cell_type": "code",
   "execution_count": 51,
   "metadata": {
    "collapsed": false
   },
   "outputs": [
    {
     "data": {
      "text/plain": [
       "(array([ 358.57126078,  345.98775256,  333.40424434,  320.82073612,\n",
       "         308.2372279 ,  295.65371968,  283.07021147,  270.48670325,\n",
       "         257.90319503,  337.39035968,  324.80685146,  312.22334324,\n",
       "         299.63983502,  287.05632681,  274.47281859,  261.88931037,\n",
       "         249.30580215,  236.72229393,  316.20945858,  303.62595037,\n",
       "         291.04244215,  278.45893393,  265.87542571,  253.29191749,\n",
       "         240.70840927,  228.12490105,  215.54139283,  295.02855749,\n",
       "         282.44504927,  269.86154105,  257.27803283,  244.69452461,\n",
       "         232.11101639,  219.52750817,  206.94399996,  194.36049174,\n",
       "         273.84765639,  261.26414817,  248.68063995,  236.09713173,\n",
       "         223.51362351,  210.9301153 ,  198.34660708,  185.76309886,\n",
       "         173.17959064,  252.66675529,  240.08324707,  227.49973885,\n",
       "         214.91623064,  202.33272242,  189.7492142 ,  177.16570598,\n",
       "         164.58219776,  151.99868954,  231.48585419,  218.90234598,\n",
       "         206.31883776,  193.73532954,  181.15182132,  168.5683131 ,\n",
       "         155.98480488,  143.40129666,  130.81778844]),\n",
       " array([ 179.01785225,  169.4033153 ,  159.78877835,  150.1742414 ,\n",
       "         140.55970445,  130.9451675 ,  121.33063055,  111.7160936 ,\n",
       "         102.10155665,  193.78205775,  184.1675208 ,  174.55298385,\n",
       "         164.9384469 ,  155.32390995,  145.709373  ,  136.09483605,\n",
       "         126.4802991 ,  116.86576215,  208.54626325,  198.9317263 ,\n",
       "         189.31718935,  179.7026524 ,  170.08811545,  160.4735785 ,\n",
       "         150.85904155,  141.2445046 ,  131.62996765,  223.31046875,\n",
       "         213.6959318 ,  204.08139485,  194.4668579 ,  184.85232095,\n",
       "         175.237784  ,  165.62324705,  156.0087101 ,  146.39417316,\n",
       "         238.07467425,  228.4601373 ,  218.84560035,  209.2310634 ,\n",
       "         199.61652645,  190.0019895 ,  180.38745255,  170.77291561,\n",
       "         161.15837866,  252.83887975,  243.2243428 ,  233.60980585,\n",
       "         223.9952689 ,  214.38073195,  204.766195  ,  195.15165806,\n",
       "         185.53712111,  175.92258416,  267.60308525,  257.9885483 ,\n",
       "         248.37401135,  238.7594744 ,  229.14493745,  219.53040051,\n",
       "         209.91586356,  200.30132661,  190.68678966]),\n",
       " array([ 179.01785225,  169.4033153 ,  159.78877835,  150.1742414 ,\n",
       "         140.55970445,  130.9451675 ,  121.33063055,  111.7160936 ,\n",
       "         102.10155665,  193.78205775,  184.1675208 ,  174.55298385,\n",
       "         164.9384469 ,  155.32390995,  145.709373  ,  136.09483605,\n",
       "         126.4802991 ,  116.86576215,  208.54626325,  198.9317263 ,\n",
       "         189.31718935,  179.7026524 ,  170.08811545,  160.4735785 ,\n",
       "         150.85904155,  141.2445046 ,  131.62996765,  223.31046875,\n",
       "         213.6959318 ,  204.08139485,  194.4668579 ,  184.85232095,\n",
       "         175.237784  ,  165.62324705,  156.0087101 ,  146.39417316,\n",
       "         238.07467425,  228.4601373 ,  218.84560035,  209.2310634 ,\n",
       "         199.61652645,  190.0019895 ,  180.38745255,  170.77291561,\n",
       "         161.15837866,  252.83887975,  243.2243428 ,  233.60980585,\n",
       "         223.9952689 ,  214.38073195,  204.766195  ,  195.15165806,\n",
       "         185.53712111,  175.92258416,  267.60308525,  257.9885483 ,\n",
       "         248.37401135,  238.7594744 ,  229.14493745,  219.53040051,\n",
       "         209.91586356,  200.30132661,  190.68678966]))"
      ]
     },
     "execution_count": 51,
     "metadata": {},
     "output_type": "execute_result"
    }
   ],
   "source": [
    "xyz_c = A.dot(R_t.dot(XYZ_W.T))\n",
    "xyz_c\n",
    "x = xyz_c[0]\n",
    "y = xyz_c[1]\n",
    "z = xyz_c[1]\n",
    "\n",
    "x,y,z"
   ]
  },
  {
   "cell_type": "code",
   "execution_count": 102,
   "metadata": {
    "collapsed": false
   },
   "outputs": [
    {
     "data": {
      "image/png": "[encoded data removed]",
      "text/plain": [
       "<matplotlib.figure.Figure at 0x7f68b084ab10>"
      ]
     },
     "metadata": {},
     "output_type": "display_data"
    }
   ],
   "source": [
    "import matplotlib\n",
    "%matplotlib inline\n",
    "\n",
    "u,v = transformWorld2PixImageUndist(X,Y,Z,R,t,A)\n",
    "    \n",
    "plt.scatter(u,v)\n",
    "plt.hold=True\n",
    "plt.scatter(u_meas[0],v_meas[0],color=\"red\")\n",
    "#plt.xlim([0,700])\n",
    "#plt.ylim([0,600])\n",
    "plt.show()"
   ]
  },
  {
   "cell_type": "markdown",
   "metadata": {},
   "source": [
    "## Problem 1.6"
   ]
  },
  {
   "cell_type": "code",
   "execution_count": 101,
   "metadata": {
    "collapsed": false
   },
   "outputs": [],
   "source": [
    "def transformWorld2PixImageUndist(X, Y, Z, R, t, A):\n",
    "    R_t = np.hstack((R,np.array([t]).T))\n",
    "    #XYZ_W = np.vstack((X,Y,Z,[1 for _ in X])).T # homogeneous world frame coordinates\n",
    "    XYZ_W = np.vstack((X_big[p],Y_big[p],np.zeros(X_big[p].size),np.ones(X_big[p].shape))).T\n",
    "    \n",
    "    xyz_c = A.dot(R_t.dot(XYZ_W.T))\n",
    "    u = xyz_c[0]/xyz_c[2]\n",
    "    v = xyz_c[1]/xyz_c[2]\n",
    "\n",
    "    return u, v"
   ]
  },
  {
   "cell_type": "code",
   "execution_count": 146,
   "metadata": {
    "collapsed": false
   },
   "outputs": [
    {
     "data": {
      "text/plain": [
       "array([[ 4.],\n",
       "       [ 4.]])"
      ]
     },
     "execution_count": 146,
     "metadata": {},
     "output_type": "execute_result"
    }
   ],
   "source": [
    "np.ones([2,4]).dot(np.ones([4,1]))"
   ]
  },
  {
   "cell_type": "code",
   "execution_count": 143,
   "metadata": {
    "collapsed": false
   },
   "outputs": [],
   "source": [
    "X_big = np.repeat(np.array([X]),12,axis=0)\n",
    "Y_big = np.repeat(np.array([Y]),12,axis=0)"
   ]
  },
  {
   "cell_type": "code",
   "execution_count": 129,
   "metadata": {
    "collapsed": false
   },
   "outputs": [
    {
     "data": {
      "text/plain": [
       "(array([ 675.25779389]), array([ 143.82479926]))"
      ]
     },
     "execution_count": 129,
     "metadata": {},
     "output_type": "execute_result"
    }
   ],
   "source": [
    "p = 1\n",
    "transformWorld2PixImageUndist(X_big[p], Y_big[p], np.zeros(X_big[p].size), R_dict[p], t_dict[p], A)"
   ]
  },
  {
   "cell_type": "code",
   "execution_count": 148,
   "metadata": {
    "collapsed": false
   },
   "outputs": [],
   "source": [
    "XYZ_W = np.vstack((X_big[p],Y_big[p],np.zeros(X_big[p].size),np.ones(X_big[p].shape))).T"
   ]
  },
  {
   "cell_type": "code",
   "execution_count": 151,
   "metadata": {
    "collapsed": false
   },
   "outputs": [
    {
     "data": {
      "text/plain": [
       "array([ 0.    ,  0.0205,  0.041 ,  0.0615,  0.082 ,  0.1025,  0.123 ,\n",
       "        0.1435,  0.164 ,  0.    ,  0.0205,  0.041 ,  0.0615,  0.082 ,\n",
       "        0.1025,  0.123 ,  0.1435,  0.164 ,  0.    ,  0.0205,  0.041 ,\n",
       "        0.0615,  0.082 ,  0.1025,  0.123 ,  0.1435,  0.164 ,  0.    ,\n",
       "        0.0205,  0.041 ,  0.0615,  0.082 ,  0.1025,  0.123 ,  0.1435,\n",
       "        0.164 ,  0.    ,  0.0205,  0.041 ,  0.0615,  0.082 ,  0.1025,\n",
       "        0.123 ,  0.1435,  0.164 ,  0.    ,  0.0205,  0.041 ,  0.0615,\n",
       "        0.082 ,  0.1025,  0.123 ,  0.1435,  0.164 ,  0.    ,  0.0205,\n",
       "        0.041 ,  0.0615,  0.082 ,  0.1025,  0.123 ,  0.1435,  0.164 ])"
      ]
     },
     "execution_count": 151,
     "metadata": {},
     "output_type": "execute_result"
    }
   ],
   "source": [
    "XYZ_W.T[0]"
   ]
  },
  {
   "cell_type": "code",
   "execution_count": 142,
   "metadata": {
    "collapsed": false
   },
   "outputs": [
    {
     "data": {
      "text/plain": [
       "array([ 0.    ,  0.0205,  0.041 ,  0.0615,  0.082 ,  0.1025,  0.123 ,\n",
       "        0.1435,  0.164 ,  0.    ,  0.0205,  0.041 ,  0.0615,  0.082 ,\n",
       "        0.1025,  0.123 ,  0.1435,  0.164 ,  0.    ,  0.0205,  0.041 ,\n",
       "        0.0615,  0.082 ,  0.1025,  0.123 ,  0.1435,  0.164 ,  0.    ,\n",
       "        0.0205,  0.041 ,  0.0615,  0.082 ,  0.1025,  0.123 ,  0.1435,\n",
       "        0.164 ,  0.    ,  0.0205,  0.041 ,  0.0615,  0.082 ,  0.1025,\n",
       "        0.123 ,  0.1435,  0.164 ,  0.    ,  0.0205,  0.041 ,  0.0615,\n",
       "        0.082 ,  0.1025,  0.123 ,  0.1435,  0.164 ,  0.    ,  0.0205,\n",
       "        0.041 ,  0.0615,  0.082 ,  0.1025,  0.123 ,  0.1435,  0.164 ])"
      ]
     },
     "execution_count": 142,
     "metadata": {},
     "output_type": "execute_result"
    }
   ],
   "source": [
    "X_big[0]"
   ]
  },
  {
   "cell_type": "code",
   "execution_count": null,
   "metadata": {
    "collapsed": true
   },
   "outputs": [],
   "source": []
  }
 ],
 "metadata": {
  "kernelspec": {
   "display_name": "Python 2",
   "language": "python",
   "name": "python2"
  },
  "language_info": {
   "codemirror_mode": {
    "name": "ipython",
    "version": 2
   },
   "file_extension": ".py",
   "mimetype": "text/x-python",
   "name": "python",
   "nbconvert_exporter": "python",
   "pygments_lexer": "ipython2",
   "version": "2.7.12"
  }
 },
 "nbformat": 4,
 "nbformat_minor": 2
}
